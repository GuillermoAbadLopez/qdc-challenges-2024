{
 "cells": [
  {
   "cell_type": "markdown",
   "id": "7df8a7e6-f667-4566-8644-c9fda3d49110",
   "metadata": {
    "jp-MarkdownHeadingCollapsed": true
   },
   "source": [
    "<div>\n",
    "<img src=\"images/QDC_Notebook_Header_Day-01.png\"/>\n",
    "</div>\n",
    "\n",
    "# QDC Day 1 - Challenge Track A: Introduction to Qiskit functions and Qiskit addons\n",
    "This challenge introduces you to the world of Qiskit functions and Qiskit addons, empowering you to discover how these tools simplify quantum software development and research, and help accelerate the process of integrating quantum workflows into your projects. Let's dive into the fundamentals, explore the modules, and get hands-on with practical exercises that showcase the power of Qiskit functions and Qiskit addons."
   ]
  },
  {
   "cell_type": "markdown",
   "id": "80245974-0c26-4d1b-87b1-b143f4b50443",
   "metadata": {},
   "source": [
    "# Table of Contents\n",
    "\n",
    "**Track A**\n",
    "1. [Section 1: Exploring Qiskit functions Catalog](#Section-1:-Exploring-the-Qiskit-functions-Catalog)\n",
    "   - [1.0.1 Qiskit functions and Qiskit addons 101: Exploration](#Section-1.01:-Qiskit-functions-and-Qiskit-addons:-A-new-way-to-code-with-Qiskit)\n",
    "   - [1.1 Exercise: Running a Simple Circuit function](#11-running-a-simple-circuit-function)\n",
    "   - [1.2 Exercise: Modifying a Circuit function](#12-exercise-modifying-a-circuit-function)\n",
    "2. [Section 2: Exploring Qiskit addons](#section-2-integrating-qiskit-addons)\n",
    "   - [2.1 Exercise: Use a Qiskit addon to optimize a quantum workload](#22-exercise-swap-and-integrate-multiple-addons)\n",
    " \n",
    "**For access to the Track B notebook, please click [here](link).**"
   ]
  },
  {
   "cell_type": "code",
   "execution_count": null,
   "id": "52308e56-1ee8-45ac-ba46-bf51d5a263ea",
   "metadata": {},
   "outputs": [],
   "source": [
    "# Imports\n",
    "from qc_grader.challenges.qdc_2024 import (\n",
    "    grade_day1a_ex1,\n",
    "    grade_day1a_ex2,\n",
    "    submit_feedback_1a_1,\n",
    "    submit_feedback_1a_2,\n",
    "    submit_feedback_1a_3,\n",
    "    submit_name\n",
    ")"
   ]
  },
  {
   "cell_type": "code",
   "execution_count": null,
   "id": "28e726fa-f629-4edc-a567-ea42e0674e41",
   "metadata": {},
   "outputs": [],
   "source": [
    "# Required packages\n",
    "# %pip install qiskit\n",
    "# %pip install qiskit-aer\n",
    "# %pip install qiskit-ibm-runtime\n",
    "# %pip install qiskit-ibm-transpiler\n",
    "# %pip install qiskit-ibm-catalog\n",
    "# %pip install qiskit-addon-utils\n",
    "# %pip install qiskit-serverless\n",
    "# %pip install qiskit-addon-sqd\n",
    "# %pip install qiskit-addon-obp\n",
    "# %pip install git+https://github.com/qiskit-community/Quantum-Challenge-Grader.git"
   ]
  },
  {
   "cell_type": "markdown",
   "id": "0a2dc50e",
   "metadata": {},
   "source": [
    "# Section 1: Exploring the Qiskit functions Catalog\n",
    "\n",
    "<!-- Add quick summary of functions vs addons (goal/objective) -->\n",
    "###  Section 1.01: Qiskit functions and Qiskit addons: A new way to code with Qiskit\n",
    "At present, quantum programs are mostly written at the circuit level, requiring hand-coding that incorporates the intricacies of quantum hardware. There’s still a lot of development time and expertise required in order to access the utility-scale performance of quantum hardware and software. Also, utility-scale programming might sit beyond the abilities of those without the deepest quantum computing backgrounds. **That’s what Qiskit functions and the Qiskit functions Catalog are for:** they comprise a programming service that allows access to high-performance quantum hardware and software at a higher abstraction level. Qiskit functions simplify and accelerate utility-scale algorithm discovery and application development, by abstracting away parts of the quantum software development workflow. \n"
   ]
  },
  {
   "cell_type": "markdown",
   "id": "8578a4ca",
   "metadata": {
    "jp-MarkdownHeadingCollapsed": true
   },
   "source": [
    "\n",
    "\n",
    "<div class=\"alert alert-block alert-info\">\n",
    "<b>Qiskit functions</b>  simplify and accelerate utility-scale algorithm discovery and application development, by abstracting away parts of the quantum software development workflow. \n",
    "</div>\n",
    "\n",
    "Qiskit functions aim to simplify research workflow while improving efficiency and precision. From circuit preparation to domain-specific applications, Qiskit functions are built to integrate seamlessly with classical and quantum workflows, so that researchers to extend capabilities without unnecessary friction. Let us explore the types of functions that are currently available in the Qiskit functions catalog:\n",
    "\n",
    "<div>\n",
    "<img src=\"images/functions-overview.svg\" width=\"800\"/>\n",
    "</div>\n",
    "\n",
    "<!-- Source: https://docs.quantum.ibm.com/guides/functions -->\n",
    "\n",
    "\n"
   ]
  },
  {
   "cell_type": "markdown",
   "id": "246632d9-7e96-4158-bb46-de58c9570842",
   "metadata": {},
   "source": [
    "### Circuit functions\n",
    "\n",
    "The Circuit functions catalog is designed to minimize manual overhead of prepping quantum circuits. By abstracting core processes like transpilation, error suppression, and mitigation, these functions offer a foundation for building, testing, and scaling algorithms, with the aim to simplify algorithm and application research. Circuit functions can be used as building blocks to create custom application functions.\n",
    "\n",
    "**Input:** *`PUB`s ([Primitive Unified Bloc](https://docs.quantum.ibm.com/guides/primitive-input-output#overview-of-pubs))*\n",
    "**Output:** *Mitigated expectation values*\n",
    "\n",
    "\n",
    "|  Service  |  Description  | Documentation |\n",
    "|---|---|---|\n",
    "| **IBM Circuit function** |  Compute accurate expectation values on QPUs with AI-powered circuit optimization and advanced error mitigation methods. | https://docs.quantum.ibm.com/guides/ibm-circuit-function |\n",
    "| **Algortihmiq Tensor-Network Error Mitigation (TEM)** | Tensor-network error mitigation with low shot overhead and reduced runtime usage. | https://docs.quantum.ibm.com/guides/algorithmiq-tem | \n",
    "| **Q-CTRL Performance Management** | Reduce errors without sampling overhead with automated, AI-driven error suppression | https://docs.quantum.ibm.com/guides/q-ctrl-performance-management | \n",
    "| **Qedma QESEM** | Accurate results for large active volumes using characterization, transpilation, error suppression and mitigation | https://docs.quantum.ibm.com/guides/qedma-qesem |\n",
    "\n"
   ]
  },
  {
   "cell_type": "markdown",
   "id": "d07f9894",
   "metadata": {},
   "source": [
    "\n",
    "### Application functions\n",
    "Application functions focus on domain-specific solutions and streamline the transition from concept to execution by encapsulating complex processes into straightforward calls.\n",
    "\n",
    "From chemistry to optimization, Application functions aim to bridge the gap between quantum computing and practical, real-world problems by offering an abstraction layer that transforms domain-specific inputs into its corresponding quantum context.\n",
    "\n",
    "**Input:** *Domain-specific data (e.g., molecules, graphs)*\n",
    "**Output:** *Domain-specific solutions (e.g., energy levels, cost functions)*\n",
    "\n",
    "| Service | Description | Documentation |\n",
    "|---|---|---|\n",
    "| **Q-CTRL Optimization Solver** | Solve utility-scale optimization problems by inputting a high-level problem definition, and the solver will take care of the rest | https://docs.quantum.ibm.com/guides/q-ctrl-optimization-solver | \n",
    "| **QunaSys Quri Chemistry** | Calculate the ground state energy of molecules and generate the corresponding statevector | https://docs.quantum.ibm.com/guides/qunasys-quri-chemistry |\n",
    "| **Multiverse Computing: Singularity Machine Learning** | Solve real-world classification problems on quantum hardware without requiring quantum expertise | https://docs.quantum.ibm.com/guides/multiverse-computing-singularity |"
   ]
  },
  {
   "cell_type": "markdown",
   "id": "ff16187f",
   "metadata": {},
   "source": [
    "<div class=\"alert alert-block alert-info\">\n",
    "    <strong>💡 Explore Application functions to Solve Real-World Problems</strong><br><br>\n",
    "    For the rest of this challenge, we'll primarily focus on Circuit functions, but we encourage you to think about the broader applications of the Application functions offered in the catalog mentioned above. Imagine using QURI Chemistry to model a new molecule, or Q-CTRL Optimization Solver to tackle utility-scale optimization problems with just a high-level problem definition. For further insights, feel free to connect with app function providers in the “activation area” at the event!\n",
    "</div>"
   ]
  },
  {
   "cell_type": "markdown",
   "id": "cc2f7308-694e-4202-aa31-90744fe5522e",
   "metadata": {},
   "source": [
    "### Install and Authenticate - Familiarize yourself with Qiskit functions catalog\n",
    "Let’s get started by ensuring you have the necessary tools at your disposal. You’ll need to install the Qiskit functions Catalog client and authenticate with your IBM Quantum Platform API token. Once authenticated, you can access a wide range of pre-built functions for your needs."
   ]
  },
  {
   "cell_type": "code",
   "execution_count": null,
   "id": "a909cafe-7112-4301-88eb-18ca1709793b",
   "metadata": {},
   "outputs": [],
   "source": [
    "# Install the required package\n",
    "# %pip install qiskit-ibm-catalog\n",
    "\n",
    "# Import and authenticate using your IBM Quantum Platform API token\n",
    "from qiskit_ibm_catalog import QiskitFunctionsCatalog\n",
    "\n",
    "# Authenticate with your API token\n",
    "catalog = QiskitFunctionsCatalog()"
   ]
  },
  {
   "cell_type": "code",
   "execution_count": null,
   "id": "dad37116-d1a5-437c-b640-a9f4b834d053",
   "metadata": {
    "scrolled": true
   },
   "outputs": [],
   "source": [
    "# List available functions in the catalog\n",
    "available_functions = catalog.list()\n",
    "print(\"Available functions: \", available_functions)"
   ]
  },
  {
   "cell_type": "markdown",
   "id": "1eb3c6ec-b69a-456f-9516-904c14f6dca4",
   "metadata": {},
   "source": [
    "## Section 1.1.1: Running a Simple Circuit function \n",
    "\n",
    "Now that you have explored the list of functions offered in the function library, try to run a circuit using a Circuit function! This exercise will introduce you to setting up and executing a simple quantum circuit using Circuit functions. Feel free to explore using other available Circuit functions. By the end of this exercise, you'll have a foundational understanding of how to leverage pre-built capabilities available across multiple partners on the Qiskit functions catalog to accelerate your quantum computing projects.\n",
    "\n",
    "<div>\n",
    "<img src=\"images/functions_circuits.png\" width=\"800\"/>\n",
    "</div>"
   ]
  },
  {
   "cell_type": "markdown",
   "id": "f288c98a-5c34-45bb-9ef2-a2cb2a907bc7",
   "metadata": {},
   "source": [
    "### Step 1: Running a Circuit function - Map the problem\n",
    "Let’s execute a workload using Qiskit functions! We will take a quantum circuit describing a mirror kicked Ising experiment and run it on a Circuit function. The function will handle everything from translating the circuit for the quantum hardware to mitigating errors in the results. All you need to do is pass the circuit to the function and wait for the output! Lets map the problem to our circuit:\n",
    "\n",
    "<div>\n",
    "<img src=\"images/mapping.png\" width=\"950\"/>\n",
    "</div>"
   ]
  },
  {
   "cell_type": "code",
   "execution_count": null,
   "id": "cbd957e4-b7df-453f-b458-1faa436afc59",
   "metadata": {},
   "outputs": [],
   "source": [
    "from qiskit_ibm_runtime import QiskitRuntimeService\n",
    "# Initialize the runtime service and find the least busy backend\n",
    "service = QiskitRuntimeService()\n",
    "backend = service.least_busy(min_num_qubits=100, operational=True, filters=lambda x: x.name!=\"test_eagle_us-east\")\n",
    "\n",
    "print(backend)"
   ]
  },
  {
   "cell_type": "code",
   "execution_count": null,
   "id": "aee86435-8a47-47ff-986e-d38a5d8f7cdf",
   "metadata": {},
   "outputs": [],
   "source": [
    "# Step 1. Map the problem to a quantum-native format\n",
    "\n",
    "import numpy as np\n",
    "from utils.utils import TFIMCircuit, compute_uncompute\n",
    "\n",
    "# Color the edges\n",
    "coupling_map = backend.coupling_map\n",
    "n_qubits = 50\n",
    "\n",
    "max_trotter_steps = 1\n",
    "\n",
    "ising_circuits = []\n",
    "for trotter_steps in range(1, max_trotter_steps + 1):\n",
    "    circuit = TFIMCircuit(num_qubits=n_qubits, trotter_steps=trotter_steps)\n",
    "    circuit = compute_uncompute(circuit, inplace=True)\n",
    "    circuit.assign_parameters([np.pi/4,-np.pi/2], inplace=True)\n",
    "    ising_circuits.append(circuit)\n",
    "ising_circuit = ising_circuits[-1]"
   ]
  },
  {
   "cell_type": "code",
   "execution_count": null,
   "id": "ce1f3fca-352e-4f1e-a4ba-fb6c517ee5b3",
   "metadata": {
    "scrolled": true
   },
   "outputs": [],
   "source": [
    "ising_circuits[-1].draw(output=\"mpl\", fold=-1)"
   ]
  },
  {
   "cell_type": "code",
   "execution_count": null,
   "id": "689309c7-2e37-498d-8dc9-03fce9336eee",
   "metadata": {
    "scrolled": true
   },
   "outputs": [],
   "source": [
    "from qiskit.quantum_info import SparsePauliOp\n",
    "\n",
    "observables = [SparsePauliOp.from_sparse_list([(\"Z\", [i], 1.0) ],num_qubits=n_qubits) for i in range(n_qubits)]\n",
    "\n",
    "print(observables)"
   ]
  },
  {
   "cell_type": "markdown",
   "id": "6cb9abd3-4f8f-4165-9a89-c343ba496e6f",
   "metadata": {},
   "source": [
    "### Step 2: Set up and run on hardware\n",
    "Now, let’s take our mirror kicked Ising experiment and execute it using the IBM Circuit function. This function will handle everything from translating the circuit for the quantum hardware to mitigating errors in the results. All you need to do is pass the circuit to the function and wait for the output! While we will be focusing on the IBM Circuit function for this experiment, please feel free to explore other partner functions and engage with them in the activation village! "
   ]
  },
  {
   "cell_type": "markdown",
   "id": "34d48a64-e891-4f05-a720-301f654c4906",
   "metadata": {},
   "source": [
    "<div>\n",
    "<img src=\"images/functions_circuit_ex.png\" width=\"950\"/>\n",
    "</div>"
   ]
  },
  {
   "cell_type": "markdown",
   "id": "5aae0ab7-3a0a-435e-bcb6-61e6f736df59",
   "metadata": {},
   "source": [
    "<a id=\"exercise_1\"></a>\n",
    "<div class=\"alert alert-block alert-success\">\n",
    "    \n",
    "<b> Exercise 1: Run a Circuit function job</b> \n",
    "\n",
    "Your objective is to select the **IBM Circuit function** from the Qiskit functions Catalog, submit the circuit payload, and retrieve the expectation values from the job results. Follow the steps to authenticate, run the job, and plot the output. **Use the default option values for the function of your choice.** Feel free to refer to the [Documentation Links](https://docs.quantum.ibm.com/guides/ibm-circuit-function) in the table above for additional guidance!\n",
    "\n",
    "</div> "
   ]
  },
  {
   "cell_type": "markdown",
   "id": "33245e74-fa11-413c-b5cc-291dc31f16d1",
   "metadata": {},
   "source": [
    "<div class=\"alert alert-block alert-info\">\n",
    "\n",
    "⚠️ **Note:** Please use the default options while running the graded exercise to avoid blocking the QPU queue for other participants. Customizing options may lead to longer runtimes and limit resource availability for others in the challenge.\n",
    "\n",
    "</div>"
   ]
  },
  {
   "cell_type": "code",
   "execution_count": null,
   "id": "a905fc6d-f7bd-4ca9-8286-dfb668ca0c9a",
   "metadata": {
    "scrolled": true
   },
   "outputs": [],
   "source": [
    "### Write your code below here ###\n",
    "# Load the IBM Circuit Function\n",
    "qiskit_cf =\n",
    "\n",
    "# Run the job using the IBM Circuit function\n",
    "job =\n",
    "\n",
    "# Check the status of the job\n",
    "print(job.status())"
   ]
  },
  {
   "cell_type": "code",
   "execution_count": null,
   "id": "48b284dc-1e70-42ba-b8bc-17934acc1770",
   "metadata": {},
   "outputs": [],
   "source": [
    "# Submit your answer using following code\n",
    "\n",
    "grade_day1a_ex1(qiskit_cf, job) \n",
    "# Expected result type: QiskitFunction, Job"
   ]
  },
  {
   "cell_type": "markdown",
   "id": "20ea4f89-4ddb-4b12-be31-9e4a0d159b68",
   "metadata": {},
   "source": [
    "### Step 3: Retrieve and Analyze Results\n",
    "After submitting the job, retrieve the results once the job status is DONE."
   ]
  },
  {
   "cell_type": "code",
   "execution_count": null,
   "id": "51e7918b-7a54-4a96-a91c-13a420f38aba",
   "metadata": {
    "scrolled": true
   },
   "outputs": [],
   "source": [
    "import sys\n",
    "import time\n",
    "from itertools import cycle\n",
    "\n",
    "# Define a loading spinner animation\n",
    "spinner = cycle(['|', '/', '-', '\\\\'])\n",
    "\n",
    "# Wait for the job to complete with a spinner animation\n",
    "while job.status() not in ['DONE', 'ERROR', 'CANCELED']:\n",
    "    status = job.status()\n",
    "    sys.stdout.write(f\"\\r{' ' * 50}\\r\")  # Clear the line\n",
    "    sys.stdout.write(f\"{next(spinner)} Current Status: {status}\")\n",
    "    sys.stdout.flush()\n",
    "    time.sleep(0.2)  # Change spinner frame every 0.2 seconds\n",
    "\n",
    "# Clear the spinner and move to the next line once the job status changes\n",
    "sys.stdout.write('\\r' + ' ' * 50 + '\\r')\n",
    "sys.stdout.flush()\n",
    "\n",
    "# Retrieve the result\n",
    "if job.status() == 'DONE':\n",
    "    sys.stdout.write(f\"{next(spinner)} Current Status: {job.status()}\")\n",
    "    result = job.result()\n",
    "    \n",
    "    # Displaying the result of the submitted job and its associated PubResult\n",
    "    print(f\"\\nThe result of the submitted job contains {len(result)} PUB(s).\\n\")\n",
    "    \n",
    "    # Displaying the DataBins and their attributes in a clearer format\n",
    "    print(\"The associated PubResult has the following DataBins:\\n\")\n",
    "    print(f\"DataBins: {result[0].data}\\n\")\n",
    "    \n",
    "    # Listing the available attributes (keys) within the DataBins\n",
    "    print(\"The DataBin has the following attributes:\")\n",
    "    for key in result[0].data.keys():\n",
    "        print(f\" - {key}\")\n",
    "    \n",
    "    # Displaying the expectation values measured from the PUB\n",
    "    print(\"\\nThe expectation values measured from this PUB are:\")\n",
    "    print(result[0].data.evs)\n",
    "    print(f'The error-bar values are: \\n{result[0].data.stds}')\n",
    "else:\n",
    "    print(f\"\\nJob ended with status: {job.status()}\")\n",
    "    print(f\"\\nJob error: {job.result()}\")\n"
   ]
  },
  {
   "cell_type": "code",
   "execution_count": null,
   "id": "f3eb33a1-896a-4474-8907-8eb49fa44de3",
   "metadata": {},
   "outputs": [],
   "source": [
    "print(np.mean(np.array(result[0].data.evs)))"
   ]
  },
  {
   "cell_type": "markdown",
   "id": "f51db30a-65df-4064-8511-0f2cc3579c73",
   "metadata": {},
   "source": [
    "Great! You have now set up and run a circuit using the IBM Circuit function from the Qiskit functions catalog! Feel free to utilize other partner Circuit functions and explore the catalog. In the next section we'll explore modifying one of the Circuit functions and customizing its functionality."
   ]
  },
  {
   "cell_type": "markdown",
   "id": "9a4ce9cf-dba7-41aa-86bb-ed9b824593be",
   "metadata": {},
   "source": [
    "## Section 1.2  Modifying a Circuit function [Ungraded]\n",
    "\n",
    "In the previous section, you successfully ran a simple circuit using a Circuit function from the Qiskit functions Catalog. Now, it's time to delve deeper and explore how you can modify function parameters to leverage features offered by the function. We will tune parameters of the IBM Circuit function to optimize performance, mitigate errors, and understand the trade-offs to experiment with two powerful parameters: error mitigation and optimization. Each function will have its own set of parameters to tune its capabilities. Let's use IBM Circuit function as an example."
   ]
  },
  {
   "cell_type": "markdown",
   "id": "10737b0f-8945-42b5-ae36-e4d49b791418",
   "metadata": {},
   "source": [
    "## Explore mitigation levels\n",
    "\n",
    "The IBM Circuit function allows you to specify different levels of error mitigation through the `mitigation_level` parameter.\n",
    "\n",
    "- **Level 1 (Default)**: Basic error suppression techniques - *Dynamical decoupling + measurement twirling + TREX*\n",
    "- **Level 2**: Includes additional error mitigation methods like Zero-Noise Extrapolation (ZNE) via gate folding - *Level 1 + gate twirling + ZNE via gate folding*\n",
    "- **Level 3**: Incorporates advanced techniques like Probabilistic Error Amplification (PEA) - *Level 1 + gate twirling + ZNE via PEA*\n",
    "\n",
    "Here we will run the same circuit as before, but with different mitigation levels. As you can see, different options trade different levels of error suppression and mitigation with workload runtime."
   ]
  },
  {
   "cell_type": "markdown",
   "id": "3d4dbb93-f9f5-430e-a456-b8c1cedea5fa",
   "metadata": {},
   "source": [
    "<div class=\"alert alert-block alert-info\">\n",
    "    \n",
    "⚠️ **Note:** In the interest of time for next sections, we will not run the cell above during this session. We encourage you to try running it on your own later to explore the full functionality of the Qiskit functions Catalog firsthand. We have provided results from a previous run, exploring different optimization and mitigation levels and their QPU time impact down below.\n",
    "\n",
    "</div>"
   ]
  },
  {
   "cell_type": "markdown",
   "id": "e08d2f8d-f30e-49aa-8a3d-56a5eeb26e31",
   "metadata": {},
   "source": [
    "<div class=\"alert alert-block alert-danger\">\n",
    "\n",
    "⚠️ **Please note** \n",
    "\n",
    "Modifying the options for the Circuit function involves a **cost/accuracy trade-off**. Adjusting certain parameters can lead to significantly increased QPU and classical runtime. Please account for these potential changes when configuring your Circuit functions. For detailed information on the available options and their implications for the IBM Circuit function, refer to the [Documentation Link](https://docs.quantum.ibm.com/guides/ibm-circuit-function#all-available-options) here.\n",
    "\n",
    "\n",
    "</div>"
   ]
  },
  {
   "cell_type": "code",
   "execution_count": null,
   "id": "e682f40a-57ab-49a0-a40c-69ae5fd72809",
   "metadata": {},
   "outputs": [],
   "source": [
    "# # Uncomment the code to run\n",
    "\n",
    "# # Modify the options to include higher error mitigation level\n",
    "# options = {\n",
    "#   \"mitigation_level\": 1,\n",
    "#   # \"resilience\": {\"zne_mitigation\": True},\n",
    "#     \"optimization_level\": 1\n",
    "# }\n",
    "\n",
    "# # Run the circuit function with error mitigation\n",
    "# job_with_mitigation = qiskit_cf.run(\n",
    "#     backend_name=backend.name,\n",
    "#     pubs=[(ising_circuit, observables)],\n",
    "#     options=options\n",
    "# )\n",
    "\n",
    "# # Retrieve the result\n",
    "# mitigation_result = job_with_mitigation.result()\n",
    "# print(f\"Expectation values with mitigation: {np.mean(np.array(mitigation_result.data.evs))}\")"
   ]
  },
  {
   "cell_type": "markdown",
   "id": "06153136-e984-4928-8126-30db56c6ec32",
   "metadata": {},
   "source": [
    "This graph shows the expectation values for different combinations of mitigation and optimization levels in IBM Circuit function, with each bar annotated to indicate the runtime in seconds, highlighting the trade-offs between computation time and result accuracy.\n",
    "\n",
    "<div>\n",
    "<img src=\"images/expectation_values_plot.png\" width=\"950\"/>\n",
    "</div>"
   ]
  },
  {
   "cell_type": "markdown",
   "id": "ae5426f6-0122-46b0-b73f-3e10633c1a1d",
   "metadata": {
    "jp-MarkdownHeadingCollapsed": true
   },
   "source": [
    "<div class=\"alert alert-block alert-info\">\n",
    "    \n",
    "**💡 Explore Partner Circuit functions**\n",
    "\n",
    "Now that we’ve experienced modifying the IBM Circuit function, we encourage you to explore and customize other circuit functions offered by our partners, available in the Qiskit functions catalog for you to try on your own time. Each function offers unique configurations and options that can enhance your quantum experiments.\n",
    "\n",
    "For a deeper understanding of these functions, please visit the activation booth to connect with our partners and learn more about how these tools can optimize your work.\n",
    "\n",
    "Below, you’ll find documentation links for some of these functions:\n",
    "\n",
    "- **Algorithmiq TEM:** [Guide here](https://docs.quantum.ibm.com/guides/algorithmiq-tem)\n",
    "- **QCTRL Performance Management:** [Guide here](https://docs.quantum.ibm.com/guides/q-ctrl-performance-management)\n",
    "- **Qedma QESEM:** [Guide here](https://docs.quantum.ibm.com/guides/qedma-qesem)\n",
    "\n",
    "</div>\n"
   ]
  },
  {
   "cell_type": "markdown",
   "id": "7f81476b-e969-4c57-9ea9-64a1ec76e10d",
   "metadata": {},
   "source": [
    "<div class=\"alert alert-block alert-info\">\n",
    "\n",
    "💬 **Feedback:** What did you consider when choosing between the available circuit functions?\n",
    "</div>"
   ]
  },
  {
   "cell_type": "code",
   "execution_count": null,
   "id": "8e3a615c-ffaf-4cd1-8a8f-3d50b214468f",
   "metadata": {},
   "outputs": [],
   "source": [
    "# Submit your feedback here\n",
    "\n",
    "feedback = \n",
    "submit_feedback_1a_1(feedback)\n",
    "# Expected result type: String"
   ]
  },
  {
   "cell_type": "markdown",
   "id": "cf51c925-ddd8-4473-9ee7-7b89d0c0ef60",
   "metadata": {},
   "source": [
    "### Exploring Qiskit Application functions\n",
    "\n",
    "\n",
    "\n",
    "If you're interested in leveraging quantum computing for high-level, domain-specific tasks, we encourage you to explore **Qiskit Application functions** on your own time. These functions are designed for enterprise developers and data scientists who want to integrate quantum solutions without needing extensive knowledge of quantum circuits.\n",
    "\n",
    "<div>\n",
    "<img src=\"images/function_application.png\" width=\"1000\"/>\n",
    "</div>\n",
    "\n",
    "Application functions allow you to input classical data, like molecular structures or optimization graphs, and retrieve valuable outputs, such as energy states or optimized solutions. This abstraction makes it easier to experiment with incorporating quantum computing into existing workflows.\n",
    "\n",
    "Here are the three application functions currently available:\n",
    "\n",
    "\n",
    "| Function Name               | Description                                                                                                          | Documentation Link                                                                                         |\n",
    "|-----------------------------|----------------------------------------------------------------------------------------------------------------------|------------------------------------------------------------------------------------------------------------|\n",
    "| **Optimization Solver by Q-CTRL (Fire Opal)** | Solves utility-scale optimization problems with a noise-aware workflow, ideal for combinatorial problems with high accuracy. | [Optimization Solver Documentation](https://docs.quantum.ibm.com/guides/q-ctrl-optimization-solver)       |\n",
    "| **QURI Chemistry by QunaSys**          | Calculates ground-state energy of molecules, providing chemists with accurate quantum results without requiring quantum expertise. | [QURI Chemistry Documentation](https://docs.quantum.ibm.com/guides/qunasys-quri-chemistry) |\n",
    "| **Multiverse Computing: Singularity Machine Learning** | Solve real-world classification problems on quantum hardware without requiring quantum expertise. | https://docs.quantum.ibm.com/guides/multiverse-computing-singularity |\n",
    "\n",
    "\n",
    "Each function offers unique capabilities that make quantum computing more accessible for specific industry challenges. We encourage you to try them out and reach out to the respective representatives if you have questions on how to unlock more value from each function.\n",
    "\n",
    "\n",
    "\n",
    "Happy exploring!\n"
   ]
  },
  {
   "cell_type": "markdown",
   "id": "86ac1229-c963-4397-909b-3de69c56305a",
   "metadata": {},
   "source": [
    "<div class=\"alert alert-block alert-success\">\n",
    "<b>Make the most of the in-person QDC experience</b>\n",
    "    \n",
    "Feel free to experiment with these functions to discover the different ways they can add value to your quantum projects. Please do not hesitate to reach out to the mentors and respective representatives in the activation booths to ask questions and learn how to unlock even more potential from each of these tools!\n",
    "\n",
    "</div>"
   ]
  },
  {
   "cell_type": "markdown",
   "id": "54bf774f-0c15-45fc-bff9-e65664b3673e",
   "metadata": {},
   "source": [
    "<div class=\"alert alert-block alert-info\">\n",
    "\n",
    "💬 **Feedback:**  Please provide feedback on the level of abstraction provided by the circuit and/or application functions. Is it the right amount of abstraction? Do you wish there were more or less parameters available for you to adjust? Why? (please expand)\n",
    "\n",
    "</div>"
   ]
  },
  {
   "cell_type": "code",
   "execution_count": null,
   "id": "040bb3a7-dd64-47f0-8339-1287245d68db",
   "metadata": {},
   "outputs": [],
   "source": [
    "# Submit your feedback here\n",
    "\n",
    "feedback = \n",
    "submit_feedback_1a_2(feedback)\n",
    "# Expected result type: String"
   ]
  },
  {
   "cell_type": "markdown",
   "id": "b6eaa56b-8674-4647-9c2f-4129c53dd479",
   "metadata": {},
   "source": [
    "# Section 2: Exploring Qiskit addons"
   ]
  },
  {
   "cell_type": "markdown",
   "id": "b1062b00-41a4-41a6-9a57-4c9763c890c3",
   "metadata": {},
   "source": [
    "### Laying the groundwork for a quantum applications ecosystem\n",
    "\n",
    "The functions catalog contains abstracted services that handle multiple stages of a quantum workflow. In this next section, we'll explore Qiskit addons: a collection of modular research capabilities for enabling algorithm discovery at the utility scale. Qiskit addons address particular tasks within a stage of a larger quantum workflow (like Qiskit patterns) to scale or design new algorithms. These tools set the stage for users to release functions and workflows of their own in the quantum applications ecosystem.\n",
    "\n",
    "## Qiskit addons\n",
    "\n",
    "While Qiskit functions provide core capabilities to streamline quantum circuits and domain-specific problems, Qiskit addons take functions a step further by offering specialized tools to tackle nuanced problems. While Qiskit functions simplify and streamline workflows, Qiskit addons customize and enhance experiments to enable efficient utility-scale workloads.\n",
    "\n",
    "| Add-On | Description | Example |\n",
    "|---|---|---|\n",
    "| Multi-product formulas (MPF)           | Reduces Trotter errors for time evolution problems, which often require deep circuits. MPF combines experiments with different Trotter errors to produce an estimate with a lower overall Trotter error.                                                             | 50 qubits with 27 2q-depth            |\n",
    "| Approximate quantum compilation (AQC-Tensor) | Constructs circuits with reduced depth for time evolution problems. Uses tensor networks to compress initial circuit layers, allowing more depth for further evolution time; beneficial as classical tractability diminishes with longer times.                   | 50 qubits with 27 2q-depth            |\n",
    "| Operator backpropagation (OBP)         | Reduces circuit depth at the expense of more operator measurements. Especially useful for circuits like Trotterized time-evolution, which get deeper and closer to Clifford gates with increased accuracy, thus reducing the impact of noise.                   | 127 qubits with 82 2q-depths          |\n",
    "| Sample-based quantum diagonalization (SQD) | Produces more accurate eigenvalue estimations from noisy quantum samples. SQD uses classical distributed computing to refine noisy samples, aiding energy estimation for large Hamiltonians, which are otherwise limited by circuit depth and error mitigation costs. | 77-q chemistry Hamiltonian with 3590 CNOTs |\n",
    "\n",
    "\n",
    "\n",
    "\n",
    "\n"
   ]
  },
  {
   "cell_type": "markdown",
   "id": "a12bdeb4-2030-42dd-a7ae-033212cb2782",
   "metadata": {},
   "source": [
    "# Exploring Operator Backpropagation (OBP) - Challenge\n",
    "\n",
    "### **Motivation:**\n",
    "\n",
    "Experimental errors limit the depth of quantum circuits that can be executed on near-term devices. Operator backpropagation is a technique that involves absorbing operations from the end of a quantum circuit into a Pauli operator, generally reducing the depth of the circuit at the cost of additional terms in the operator. The goal is to backpropagate as much of the circuit as possible without allowing the operator to grow too large.\n",
    "\n",
    "One way to allow for deeper backpropagation into the circuit, while preventing the operator from growing too large, is to truncate terms with small coefficients rather than adding them to the operator. Truncating terms can result in fewer quantum circuits to execute, but doing so results in some error in the final expectation value calculation proportional to the magnitude of the truncated terms' coefficients. You can find the [OBP docs here](https://docs.quantum.ibm.com/guides/qiskit-addons-obp), an example of using [OBP on a 50-qubit Heisenberg spin chain](https://learning.quantum.ibm.com/tutorial/improving-estimation-of-expectation-values-with-operator-backpropagation), and the API reference docs for [Qiskit addon utils here](https://docs.quantum.ibm.com/api/qiskit-addon-utils)\n",
    "\n"
   ]
  },
  {
   "cell_type": "markdown",
   "id": "62da6ce5-eeb6-4a0a-8593-dd4aad03b6bf",
   "metadata": {},
   "source": [
    "### Problem setup\n",
    "First we load the Qiskit Runtime service and specify a backend. For information on setting up your Qiskit Runtime account locally, see the [guide](https://docs.quantum.ibm.com/guides/setup-channel)."
   ]
  },
  {
   "cell_type": "code",
   "execution_count": null,
   "id": "9c3cb3be-c166-4b70-b473-ce266f3e7dbe",
   "metadata": {},
   "outputs": [],
   "source": [
    "from qiskit_ibm_runtime import QiskitRuntimeService\n",
    "\n",
    "service = QiskitRuntimeService()\n",
    "backend = service.backend(\"ibm_nazca\")"
   ]
  },
  {
   "cell_type": "markdown",
   "id": "6d688b4f-4704-4ca5-9020-4984ece8efcf",
   "metadata": {},
   "source": [
    "We now create a Pauli operator describing the quantum Heisenberg XY model. For this challenge, we will use a 133-site 2D Heisenberg model, which covers the entire Heron r1 QPU, ``ibm_torino``. For details on this Hamiltonian, see the [API docs](https://qiskit.github.io/qiskit-addon-utils/stubs/qiskit_addon_utils.problem_generators.generate_xyz_hamiltonian.html#qiskit_addon_utils.problem_generators.generate_xyz_hamiltonian)."
   ]
  },
  {
   "cell_type": "code",
   "execution_count": null,
   "id": "9d83c6b6-6b4f-461b-ae72-9af0ac1b372c",
   "metadata": {},
   "outputs": [],
   "source": [
    "import numpy as np\n",
    "from qiskit_addon_utils.problem_generators import generate_xyz_hamiltonian\n",
    "from qiskit_addon_utils.coloring import auto_color_edges\n",
    "\n",
    "# Color the edges s.t. the operator terms are ordered for hardware efficiency\n",
    "coupling_map = backend.coupling_map\n",
    "edges = set(coupling_map.get_edges())\n",
    "unique_edges = set()\n",
    "for edge in edges:\n",
    "    if edge[::-1] not in unique_edges:\n",
    "        unique_edges.add(edge)\n",
    "coloring = auto_color_edges(sorted(unique_edges))\n",
    "\n",
    "# Get a qubit operator describing the Heisenberg XY model\n",
    "hamiltonian = generate_xyz_hamiltonian(\n",
    "    coupling_map,\n",
    "    coupling_constants=(1.0, 1.0, 0.0),\n",
    "    coloring=coloring,\n",
    ")"
   ]
  },
  {
   "cell_type": "markdown",
   "id": "4c558ba6-e57d-4203-bcb7-de006a2d9546",
   "metadata": {},
   "source": [
    "Next, we will generate a quantum circuit describing the time evolution of the XY model. We will model the time evolution of the system for ``time`` = ``0.5`` units of time over ``10`` Trotter steps."
   ]
  },
  {
   "cell_type": "code",
   "execution_count": null,
   "id": "c9872fef-92a2-41ba-81de-d0f2e018887b",
   "metadata": {},
   "outputs": [],
   "source": [
    "from qiskit.synthesis import LieTrotter\n",
    "from qiskit_addon_utils.problem_generators import generate_time_evolution_circuit\n",
    "\n",
    "dt = 0.05\n",
    "reps = 10\n",
    "time = dt * reps  # total time = 0.5 = dt * reps\n",
    "\n",
    "circuit = generate_time_evolution_circuit(\n",
    "    hamiltonian,\n",
    "    time=time,\n",
    "    synthesis=LieTrotter(reps=reps),\n",
    ")\n",
    "print(f\"Circuit depth: {circuit.depth()}\")\n",
    "# circuit.draw(\"mpl\", fold=-1)"
   ]
  },
  {
   "cell_type": "markdown",
   "id": "1913a5d3-aa32-4823-aa98-1a90d4d74636",
   "metadata": {},
   "source": [
    "Specify the observable we wish to evaluate. For simplicity, we will measure the magnetization of a single site in the middle of the chain."
   ]
  },
  {
   "cell_type": "code",
   "execution_count": null,
   "id": "587d7a62-6bb0-4a36-b4f4-b96b4b920c98",
   "metadata": {},
   "outputs": [],
   "source": [
    "from qiskit.quantum_info import SparsePauliOp\n",
    "\n",
    "observable = SparsePauliOp.from_sparse_list([(\"Z\", [(circuit.num_qubits)//2], 1.0) ],num_qubits=circuit.num_qubits)\n",
    "observable"
   ]
  },
  {
   "cell_type": "markdown",
   "id": "06536730-8a91-4dfc-ba11-3c6c93696b84",
   "metadata": {},
   "source": [
    "Next, we create the slices required by the `backpropagate` function. Here we will slice by gate type, so each slice is guaranteed to only contain instances of a single gate type."
   ]
  },
  {
   "cell_type": "code",
   "execution_count": null,
   "id": "312e17d4-d9e7-4f74-a1ec-fe881bd47d45",
   "metadata": {},
   "outputs": [],
   "source": [
    "from qiskit_addon_utils.slicing import slice_by_gate_types\n",
    "\n",
    "slices = slice_by_gate_types(circuit)\n",
    "print(\n",
    "    f\"The circuit has depth {circuit.depth()}, and it was split into {len(slices)} slices.\"\n",
    ")"
   ]
  },
  {
   "cell_type": "markdown",
   "id": "e2aeb63f-02aa-46ee-bbfa-b2fd866c3723",
   "metadata": {},
   "source": [
    "Here we limit the amount of truncation error challenge participants may incur to ``max_error_total`` = ``.05``. By using this error budget wisely, you can backpropagate deeper into the circuit.\n",
    "\n",
    "We also cap the number of qubit-wise commuting Pauli groups the operator may hold at ``max_qwc_groups`` = ``20``. Once a slice is backpropagated that would cause the observable to be too large, the `backpropagate` function will return the results from the previous iteration."
   ]
  },
  {
   "cell_type": "code",
   "execution_count": null,
   "id": "d74f0b03-87d2-4a6a-8c6c-880d9ef099a1",
   "metadata": {},
   "outputs": [],
   "source": [
    "max_error_total = 0.05\n",
    "max_qwc_groups = 20"
   ]
  },
  {
   "cell_type": "markdown",
   "id": "f361d5ce-a9e2-4ba4-ae38-4df3cf75e9d3",
   "metadata": {},
   "source": [
    "By distributing the ``.05`` budget cleverly, you can improve the performance. Here we set ``num_bp_slices`` = ``6``, indicating we want to attempt to backpropagate one whole Trotter step. We set ``max_error_per_slice`` = ``[0., ...]``, indicating we want to do no truncation.\n",
    "\n",
    "**You should update the number of slices you want to attempt to backpropagate as you want to try to go deeper into the circuit.**\n",
    "\n",
    "**You should allocate the ``.05`` error budget amongst the slices in any way you wish to try and improve performance.**\n",
    "\n",
    "One strategy for truncation is to make the entire budget available to the last slice (remember we start backpropagating from the end of the circuit) and allow the algorithm to greedily consume the budget at each iteration as quickly as possible. One could also distribute the budget evenly among the slices you want to backpropagate. There are an uncountably infinite number of ways to distribute the error budget, so we encourage you to check out the [how-to guide](https://github.com/Qiskit/qiskit-addon-obp/blob/main/docs/how_tos/truncate_operator_terms.ipynb), then experiment with the values below and observe how they affect the performance of the technique."
   ]
  },
  {
   "cell_type": "markdown",
   "id": "af0f929e-3431-48a3-b048-d22552407ec7",
   "metadata": {},
   "source": [
    "<div class=\"alert alert-block alert-warning\">\n",
    "\n",
    "🏆 **Scored Challenge** \n",
    "\n",
    "This is a scored challenge, and your submission results will count toward the leaderboard!\n",
    "\n",
    "Good luck, take your time to experiment, and enjoy the challenge!\n",
    "</div>\n"
   ]
  },
  {
   "cell_type": "markdown",
   "id": "6ce90498-4bfd-4fb3-ad4e-affc67c7faaa",
   "metadata": {},
   "source": [
    "<a id=\"exercise_1\"></a>\n",
    "<div class=\"alert alert-block alert-success\">\n",
    "    \n",
    "<b> Exercise 2: Reduce circuit depth using OBP</b> \n",
    "\n",
    "This challenge involves using `qiskit-addon-obp` to reduce the depth of a quantum circuit while observing the following 2 constraints:\n",
    "- The number of qubit-wise commuting Pauli groups in the observable may not grow larger than `20` during backpropagation\n",
    "- The amount of truncation error incurred during backpropagation may not exceed `.05`\n",
    "\n",
    "**Your task is to reduce the circuit depth as much as you can by adjusting the ``max_error_per_slice`` argument to the [setup_budget](https://qiskit.github.io/qiskit-addon-obp/stubs/qiskit_addon_obp.utils.truncating.setup_budget.html#qiskit_addon_obp.utils.truncating.setup_budget) function.**\n",
    "\n",
    "Challenge participants are expected to adjust how the `.05` truncation error budget is distributed among the slices to improve performance. Check out the [how-to on truncating](https://qiskit.github.io/qiskit-addon-obp/how_tos/truncate_operator_terms.html) for more details on distributing an error budget for backpropagation.\n",
    "</div> "
   ]
  },
  {
   "cell_type": "markdown",
   "id": "c667260e-1328-48f2-a848-1f5e03681d45",
   "metadata": {},
   "source": [
    "In the code cell below, we show a simple example of setting `num_bp_slices` = `6`, indicating we want to attempt to backpropagate one whole Trotter step. We set `max_error_per_slice` = `[0., ...]`, indicating we want to do no truncation."
   ]
  },
  {
   "cell_type": "code",
   "execution_count": null,
   "id": "d51ce66b-1f3f-4091-a7be-0c73e3ee3d6b",
   "metadata": {},
   "outputs": [],
   "source": [
    "# Choose the number of slices to attempt to backpropagate.\n",
    "# Each Trotter step is comprised of 6 slices.\n",
    "\n",
    "### Write your code below here ###\n",
    "num_bp_slices = 6\n",
    "\n",
    "# Allocate the .05 error budget amongst the slices\n",
    "max_error_per_slice = [0.0] * num_bp_slices\n",
    "\n",
    "### Don't change any code past this line ###"
   ]
  },
  {
   "cell_type": "markdown",
   "id": "10463d17-c1fa-4d16-aad0-c2a891d92e4b",
   "metadata": {},
   "source": [
    "Now we'll set up our [TruncationErrorBudget](https://qiskit.github.io/qiskit-addon-obp/stubs/qiskit_addon_obp.utils.truncating.TruncationErrorBudget.html) and [OperatorBudget](https://qiskit.github.io/qiskit-addon-obp/stubs/qiskit_addon_obp.utils.simplify.OperatorBudget.html#qiskit_addon_obp.utils.simplify.OperatorBudget) objects to pass to [backpropagate](https://qiskit.github.io/qiskit-addon-obp/stubs/qiskit_addon_obp.backpropagate.html)."
   ]
  },
  {
   "cell_type": "code",
   "execution_count": null,
   "id": "f1aac99a-ea5b-4be2-9449-3934991a5b82",
   "metadata": {},
   "outputs": [],
   "source": [
    "from qiskit_addon_obp.utils.truncating import TruncationErrorBudget, setup_budget\n",
    "from qiskit_addon_obp.utils.simplify import OperatorBudget\n",
    "\n",
    "error_budget = setup_budget(\n",
    "    max_error_per_slice=max_error_per_slice, p_norm=2, max_error_total=max_error_total\n",
    ")\n",
    "op_budget = OperatorBudget(max_qwc_groups=max_qwc_groups)"
   ]
  },
  {
   "cell_type": "markdown",
   "id": "8fe12237-0fae-46ec-8c3d-7c77288fffe7",
   "metadata": {},
   "source": [
    "Finally, we will call backpropagate and check the performance."
   ]
  },
  {
   "cell_type": "code",
   "execution_count": null,
   "id": "912a2b0b-f52b-43bb-8a24-2370ecb408a9",
   "metadata": {
    "scrolled": true
   },
   "outputs": [],
   "source": [
    "from qiskit_addon_obp import backpropagate\n",
    "from qiskit_addon_utils.slicing import combine_slices\n",
    "\n",
    "# Backpropagate slices onto the observable\n",
    "bp_obs, remaining_slices, metadata = backpropagate(\n",
    "    observable,\n",
    "    slices[-num_bp_slices:],\n",
    "    operator_budget=op_budget,\n",
    "    truncation_error_budget=error_budget,\n",
    ")\n",
    "final_circ = combine_slices(slices[:-num_bp_slices] + remaining_slices)\n",
    "\n",
    "print(\n",
    "    f\"Backpropagated {num_bp_slices - len(remaining_slices)} circuit slices, reducing the circuit depth from {circuit.depth()} to {final_circ.depth()} -- a reduction of {circuit.depth()-final_circ.depth()}.\"\n",
    ")\n",
    "print(\n",
    "    f\"New observable contains {len(bp_obs)} terms and {len(bp_obs.group_commuting(qubit_wise=True))} commuting groups.\"\n",
    ")"
   ]
  },
  {
   "cell_type": "code",
   "execution_count": null,
   "id": "441891ae",
   "metadata": {},
   "outputs": [],
   "source": [
    "# Please choose your username for the leaderboard\n",
    "\n",
    "username = \n",
    "submit_name(username)"
   ]
  },
  {
   "cell_type": "code",
   "execution_count": null,
   "id": "da6cfc38-184a-4e2b-8fe8-df11e71ef8e0",
   "metadata": {},
   "outputs": [],
   "source": [
    "# Submit your answer using following code\n",
    "\n",
    "grade_day1a_ex2(num_bp_slices, max_error_per_slice) \n",
    "# Expected submission type: int, list([float]"
   ]
  },
  {
   "cell_type": "markdown",
   "id": "313d8b9a-3b99-4dcb-978a-7cbb19df25d7",
   "metadata": {},
   "source": [
    "<a id=\"scoring_func\"></a>\n",
    "<div class=\"alert alert-block alert-success\">\n",
    "    \n",
    "⚠️ **About the scoring function** \n",
    "\n",
    "Your score is based on how much you reduce the circuit depth while keeping the total truncation error within $0.05$ and the number of qubit-wise commuting Pauli groups within $20$. The score is calculated as per the reduction in circuit depth.\n",
    "\n",
    "\n",
    "Your score is calculated as:\n",
    "\n",
    "\n",
    "$$\\text{Score} = \\left( \\frac{\\text{Original Depth} - \\text{Final Depth}}{\\text{Original Depth}} \\right) \\times 1000$$\n",
    "\n",
    "\n",
    "A higher depth reduction yields a higher score (maximum score is 1000). Adjust your `max_error_per_slice` values strategically to minimize the final circuit depth within the allowed error budget. </div>"
   ]
  },
  {
   "cell_type": "markdown",
   "id": "7893734b-97da-47ed-ad84-0d57b93cc9d1",
   "metadata": {},
   "source": [
    "Now that we've seen how the algorithm performed, we can visualize some of the metadata to see what happened at each iteration.\n",
    "\n",
    "The **top/left** chart shows how much of the total budget was used by each slice. The **top/right** chart shows how unused budget is forwarded to deeper slices. The **bottom/left** chart shows how the error in our final calculation grows monotonically as we truncate more terms from the operator. The **bottom/right** chart shows of how many qubit-wise commuting Pauli groups the observable was comprised at each iteration. If the algorithm was returned due to the operator growing too large, this chart would show the number of groups exceeding the maximum in the final iteration."
   ]
  },
  {
   "cell_type": "code",
   "execution_count": null,
   "id": "c12f837b-1b0f-4279-b8cf-d0320087ce5f",
   "metadata": {
    "scrolled": true
   },
   "outputs": [],
   "source": [
    "from matplotlib import pyplot as plt\n",
    "from qiskit_addon_obp.utils.visualization import (\n",
    "    plot_accumulated_error,\n",
    "    plot_left_over_error_budget,\n",
    "    plot_num_qwc_groups,\n",
    "    plot_slice_errors,\n",
    ")\n",
    "\n",
    "fig, axes = plt.subplots(2, 2, figsize=(20, 10))\n",
    "plot_slice_errors(metadata, axes[(0, 0)])\n",
    "plot_left_over_error_budget(metadata, axes[(0, 1)])\n",
    "plot_accumulated_error(metadata, axes[(1, 0)])\n",
    "plot_num_qwc_groups(metadata, axes[(1, 1)])"
   ]
  },
  {
   "cell_type": "markdown",
   "id": "41964747-35be-4ecc-b3f1-94fdc0c8c6c7",
   "metadata": {},
   "source": [
    "<div class=\"alert alert-block alert-info\">\n",
    "\n",
    "💬 **Feedback:**  Now that you have had the experience of using Qiskit addons, how useful do they seem to you?\n",
    "</div>"
   ]
  },
  {
   "cell_type": "code",
   "execution_count": null,
   "id": "a6c37521-cde8-4d6c-b3ff-e85707e9455b",
   "metadata": {},
   "outputs": [],
   "source": [
    "# Submit your feedback here\n",
    "\n",
    "feedback = \n",
    "submit_feedback_1a_3(feedback)\n",
    "# Expected result type: String"
   ]
  },
  {
   "cell_type": "markdown",
   "id": "ca1a79dd-1dd5-4992-8ae0-40cdfd3ffbca",
   "metadata": {},
   "source": [
    "<div class=\"alert alert-block alert-info\">\n",
    "    <strong> Post-challenge note</strong><br><br>\n",
    "    \n",
    "For this challenge, we bound `max_qwc_groups` at ``20`` to ensure the operator would not grow too large during execution of the ``backpropagate`` and that it would execute quickly.\n",
    "\n",
    "In practice, a numerical study for a given circuit is instructive in understanding how best to distribute the truncation budget. For example, as shown below, we can get a very strong result for this problem by allowing the operator to grow as large as needed until finally expending our entire budget on a single slice much deeper in the circuit.\n",
    "\n",
    "You can see that while our observable grew very large while backpropagating these *30 slices* without truncation, the final size of the operator is still within our set constraints in the end, and we were able to backpropagate half of the circuit.\n",
    "</div>"
   ]
  },
  {
   "cell_type": "code",
   "execution_count": null,
   "id": "d00525ac-0469-4dd5-ba1f-536daeb39d3a",
   "metadata": {},
   "outputs": [],
   "source": [
    "# Allow the operator to grow as large as needed during backpropagation\n",
    "max_qwc_groups = None\n",
    "# Try to backpropagate 30 slices (5 Trotter steps)\n",
    "num_bp_slices = 30\n",
    "# Allocate all of the budget to the 30th slice\n",
    "max_error_per_slice = [0.0] * (num_bp_slices - 1) + [max_error_total]\n",
    "\n",
    "error_budget = setup_budget(\n",
    "    max_error_per_slice=max_error_per_slice, p_norm=2, max_error_total=max_error_total\n",
    ")\n",
    "op_budget = OperatorBudget(max_qwc_groups=max_qwc_groups)\n",
    "\n",
    "# Backpropagate slices onto the observable\n",
    "bp_obs, remaining_slices, metadata = backpropagate(\n",
    "    observable,\n",
    "    slices[-num_bp_slices:],\n",
    "    operator_budget=op_budget,\n",
    "    truncation_error_budget=error_budget,\n",
    ")\n",
    "final_circ = combine_slices(slices[:-num_bp_slices] + remaining_slices)\n",
    "\n",
    "print(\n",
    "    f\"Backpropagated {num_bp_slices - len(remaining_slices)} circuit slices, reducing the circuit depth from {circuit.depth()} to {final_circ.depth()} -- a reduction of {circuit.depth()-final_circ.depth()}.\"\n",
    ")\n",
    "print(\n",
    "    f\"New observable contains {len(bp_obs)} terms and {len(bp_obs.group_commuting(qubit_wise=True))} commuting groups.\"\n",
    ")"
   ]
  },
  {
   "cell_type": "markdown",
   "id": "94a32ee6-4597-4ffa-ba76-6505748b1942",
   "metadata": {},
   "source": [
    "<div class=\"alert alert-block alert-success\">\n",
    "<b>Make the most of the in-person QDC experience</b>\n",
    "    \n",
    "Feel free to experiment with the addons to discover the different ways they can add value to your quantum projects. Please do not hesitate to reach out to the mentors and IBMers in the room to ask questions and learn how to unlock even more potential from each of these addons!\n",
    "\n",
    "</div>"
   ]
  },
  {
   "cell_type": "markdown",
   "id": "9dda1694-f6ca-4c6f-92d1-b8548efc9614",
   "metadata": {},
   "source": [
    "## Thank You for Participating!\n",
    "\n",
    "Congratulations on completing **Day 1 of the Quantum Developer Challenge (QDC)**! Today, you've delved into Qiskit functions and Qiskit addons, exploring how these powerful tools can simplify quantum computing workflows and enhance your research and development projects.\n",
    "\n",
    "As we continue through this challenge, remember that experimentation and iteration are at the heart of quantum development. Use the knowledge you gained today as a foundation for deeper explorations into Qiskit and quantum applications. We encourage you to keep testing, exploring, and sharing your findings with the Qiskit community.\n",
    "\n",
    "Feel free to refer back to this notebook, check out the other track, revisit exercises, or try some of the optional sections to refine your skills. We hope this journey has inspired you to push the boundaries of quantum computing!\n",
    "\n",
    "Happy coding, and see you on Day 2 for more quantum challenges!\n"
   ]
  },
  {
   "cell_type": "markdown",
   "id": "bc45f0d6-992a-4ad3-b496-7bb62b37f31b",
   "metadata": {},
   "source": [
    "# Additional information\n",
    "\n",
    "**Created by:** Alejandra Perea Rojas, Bryce Fuller, Caleb Johnson, Javier Robledo Moreno, Jennifer Glick, Jim Garrison, Sanket Panda, Junye Huang, Max Rossmannek, Vishal Sharathchandra Bajpe\n",
    "\n",
    "**Advised by:** Abby Mitchell, Blake Johnson, Henry Zou, Tushar Mittal\n",
    "\n",
    "**Version:** 1.1.0"
   ]
  }
 ],
 "metadata": {
  "kernelspec": {
   "display_name": "Python 3 (ipykernel)",
   "language": "python",
   "name": "python3"
  },
  "language_info": {
   "codemirror_mode": {
    "name": "ipython",
    "version": 3
   },
   "file_extension": ".py",
   "mimetype": "text/x-python",
   "name": "python",
   "nbconvert_exporter": "python",
   "pygments_lexer": "ipython3",
   "version": "3.11.9"
  }
 },
 "nbformat": 4,
 "nbformat_minor": 5
}
