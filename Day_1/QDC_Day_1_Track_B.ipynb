{
 "cells": [
  {
   "cell_type": "markdown",
   "id": "499c7be7-d78d-4493-b8b2-5cb18d6b5b6b",
   "metadata": {},
   "source": [
    "<div>\n",
    "<img src=\"images/QDC_Notebook_Header_Day-01.png\"/>\n",
    "</div>\n",
    "\n",
    "\n",
    "# QDC Day 1 - Challenge Track B: Utility-scale workload with sample-based quantum diagonalization (SQD)\n",
    "The functions catalog contains abstracted services that handle multiple stages of a quantum workflow. In this track, we'll explore Qiskit addons: a collection of modular research capabilities for enabling algorithm discovery at the utility scale. Qiskit addons address particular tasks within a stage of a larger quantum workflow (like Qiskit patterns) to scale or design new algorithms. These tools set the stage to enable users to release functions and workflows of their own in the quantum applications ecosystem.\n",
    "\n",
    "One such addon is [**Sample-Based Quantum Diagonalization (SQD)**](https://docs.quantum.ibm.com/guides/qiskit-addons-sqd) -- a technique for finding eigenvalues and eigenvectors of quantum operators, such as a quantum system Hamiltonian, using quantum and distributed classical computing together. Classical distributed computing is used to process samples obtained from a quantum processor, and to project and diagonalize a target Hamiltonian in a subspace spanned by them. This allows SQD to be robust to samples corrupted by quantum noise and deal with large Hamiltonians, such as chemistry Hamiltonians with millions of interaction terms, beyond the reach of any exact diagonalization methods.\n",
    "\n",
    "In this track, you'll dive into SQD to simulate Hamiltonians by processing approximate eigenstates from quantum circuits and refining them with classical solvers. Through this exercise, you’ll adjust key parameters to improve robustness against quantum noise, experience how Qiskit addons enhance utility-scale quantum workloads, and get hands-on with tools that set the stage for designing and releasing custom workflows in the growing quantum applications ecosystem."
   ]
  },
  {
   "cell_type": "markdown",
   "id": "d946d0a3-461b-467d-b67c-41b79f687b43",
   "metadata": {},
   "source": [
    "# Table of Contents\n",
    "\n",
    "**Track B**\n",
    "* [**Deep Dive into SQD: Energy estimation of a Fermionic Hamiltonian with sample-based quantum diagonalization**](#link-to-track-b-notebook)\n",
    "    * [Part 1: Tutorial - Learn how to use the `qiskit-addon-sqd` api to approximate a molecule's ground state](#Part-1:-Tutorial)\n",
    "    * [Part 2: Challenge - Modify the size of the subspace in which the operator is projected and diagonalized to improve ground state estimation](#Part-2:-Challenge---Refining-the-Ground-State-Energy-Estimation)\n",
    "\n",
    "**For access to the Track A notebook, please click [here](link).**"
   ]
  },
  {
   "cell_type": "code",
   "execution_count": 5,
   "id": "986c0e29-ce5d-4940-a08d-207070690ffa",
   "metadata": {},
   "outputs": [],
   "source": [
    "# Imports\n",
    "from qc_grader.challenges.qdc_2024 import grade_day1b_ex1, submit_feedback_1b_1, submit_feedback_1b_2, submit_name"
   ]
  },
  {
   "cell_type": "code",
   "execution_count": 2,
   "id": "26f554cf-8345-4120-b82c-19062b5b539d",
   "metadata": {},
   "outputs": [],
   "source": [
    "# Required packages\n",
    "# %pip install qiskit\n",
    "# %pip install qiskit-aer\n",
    "# %pip install qiskit-ibm-runtime\n",
    "# %pip install qiskit-ibm-transpiler\n",
    "# %pip install qiskit-ibm-catalog\n",
    "# %pip install qiskit-addon-utils\n",
    "# %pip install qiskit-serverless\n",
    "# %pip install qiskit-addon-sqd\n",
    "# %pip install qiskit-addon-obp\n",
    "# %pip install git+https://github.com/qiskit-community/Quantum-Challenge-Grader.git"
   ]
  },
  {
   "cell_type": "markdown",
   "id": "9093dfb1-a262-45a8-8355-5dc2cee3f86b",
   "metadata": {},
   "source": [
    "## Overview\n",
    "The **Sample-Based Quantum Diagonalization (SQD)** method is designed to overcome limitations of exact diagonalization methods, making it suitable for handling large Hamiltonians with millions of interaction terms, such as those found in quantum chemistry. Using a sample-based approach, SQD projects and diagonalizes target Hamiltonians in a subspace formed by samples obtained from quantum circuits. These circuits are typically tailored to represent probable eigenstates of the target operator, enabling robust calculations even in the presence of quantum noise.\n",
    "\n",
    "This notebook guides you through the SQD Qiskit addon; you'll learn how the SQD method works and explore its application to a Fermionic Hamiltonian. The notebook is structured as follows:\n",
    "\n",
    "- **Part 1: Tutorial**  \n",
    "    In Part 1, you will learn how to use a Qiskit addon to set up and execute the SQD method for a Hamiltonian describing the $N_2$ molecule in a given basis. This section will provide you with hands-on experience with Qiskit addons, focusing on **energy estimation** using quantum samples combined with classical solvers.\n",
    "\n",
    "- **Part 2: Challenge**  \n",
    "    Once you've completed the tutorial, you'll move on to the challenge section. Here, you will be tasked with tuning parameters to improve the performance of SQD and achieve a closer approximation of the molecule's ground state energy. **Your goal** is to refine the parameters to enhance accuracy while considering noise and other quantum device constraints.\n"
   ]
  },
  {
   "cell_type": "markdown",
   "id": "ac4700e5-6de9-42c3-915d-c21f4c789973",
   "metadata": {},
   "source": [
    "## Getting Started\n",
    "To begin, ensure you have installed the required Qiskit addon packages for this notebook. We recommend using pip to install the `qiskit-addon-sqd` package, which includes essential tools for the Sample-Based Quantum Diagonalization (SQD) method. \n"
   ]
  },
  {
   "cell_type": "code",
   "execution_count": 3,
   "id": "9fdf5be9-da45-4419-b757-944ca8c455aa",
   "metadata": {},
   "outputs": [],
   "source": [
    "# %pip install 'qiskit-addon-sqd'"
   ]
  },
  {
   "cell_type": "markdown",
   "id": "17038ff5-4a45-43bf-be29-9d68019fb2be",
   "metadata": {},
   "source": [
    "For more installation information, refer to the [installation instructions](https://qiskit.github.io/qiskit-addon-sqd/install.html) in the documentation. Now that your environment is ready, let's get started! "
   ]
  },
  {
   "cell_type": "markdown",
   "id": "9e40af77-7f0f-4dd6-ab0a-420cf396050e",
   "metadata": {},
   "source": [
    "# Part 1: Tutorial - Energy Estimation of a Fermionic Hamiltonian with Sample-Based Quantum Diagonalization"
   ]
  },
  {
   "cell_type": "markdown",
   "id": "84b97410-e048-4f87-800d-fcc59bcded11",
   "metadata": {},
   "source": [
    "In this tutorial we will implement a [Qiskit pattern](https://docs.quantum.ibm.com/guides/intro-to-patterns) showing how to post-process noisy quantum samples to find an approximation to the ground state of the $N_2$ molecule at equilibrium in the ``6-31G basis set``. We will follow a sample-based quantum diagonalization approach [[1]](https://arxiv.org/abs/2405.05068) to process samples taken from a ``36``-qubit quantum circuit (32 spin qubits + 4 auxiliary qubits). In order to account for the effect of quantum noise, the [self-configuration recovery technique is used](https://arxiv.org/abs/2405.05068).\n",
    "\n",
    "The pattern can be described in four steps:\n",
    "\n",
    "1. **Map to quantum problem**\n",
    "    - Generate an ansatz for estimating the ground state\n",
    "2. **Optimize the problem**\n",
    "    - Transpile the ansatz for the backend\n",
    "3. **Execute experiments**\n",
    "    - Draw samples from the ansatz using the ``Sampler`` primitive\n",
    "4. **Post-process results**\n",
    "   - Self-consistent configuration recovery loop\n",
    "       - Post-process the full set of bitstring samples, using prior knowledge of particle number and the average orbital occupancy calculated on the most recent iteration.\n",
    "       - Probabilistically create batches of subsamples from recovered bitstrings.\n",
    "       - Project and diagonalize the molecular Hamiltonian over each sampled subspace.\n",
    "       - Save the minimum ground state energy found across all batches and update the average orbital occupancy.\n",
    "\n",
    "\n",
    "For this example, the interacting-electron Hamiltonian takes the generic form:\n",
    "\n",
    "$$\n",
    "\\hat{H} = \\sum_{ \\substack{pr\\\\\\sigma} } h_{pr} \\, \\hat{a}^\\dagger_{p\\sigma} \\hat{a}_{r\\sigma}\n",
    "+ \n",
    "\\sum_{ \\substack{prqs\\\\\\sigma\\tau} }\n",
    "\\frac{(pr|qs)}{2} \\, \n",
    "\\hat{a}^\\dagger_{p\\sigma}\n",
    "\\hat{a}^\\dagger_{q\\tau}\n",
    "\\hat{a}_{s\\tau}\n",
    "\\hat{a}_{r\\sigma}\n",
    "$$\n",
    "\n",
    "$\\hat{a}^\\dagger_{p\\sigma}$/$\\hat{a}_{p\\sigma}$ are the fermionic creation/annihilation operators associated to the $p$-th basis set element and the spin $\\sigma$. $h_{pr}$ and $(pr|qs)$ are the one- and two-body electronic integrals. These are loaded from an ``fcidump`` file with standard chemistry software.\n",
    "\n",
    "The SQD workflow with self-consistent configuration recovery is depicted in the following diagram.\n",
    "\n",
    "![SQD diagram](images/sqd_diagram.png)\n",
    "\n",
    "SQD is known to work well when the target eigenstate is sparse: the wave function is supported in a set of basis states $\\mathcal{S} = \\{|x\\rangle \\}$ whose size increases polynomially with the size of the problem. In this scenario, the diagonalization of the Hamiltonian projected into the subspace defined by $\\mathcal{S}$:\n",
    "$$\n",
    "H_\\mathcal{S} = P_\\mathcal{S} H  P_\\mathcal{S} \\textrm{ with } P_\\mathcal{S} = \\sum_{x \\in \\mathcal{S}} |x \\rangle \\langle x |;\n",
    "$$\n",
    "yields a good approximation to the target eigenstate. The role of the quantum device is to produce samples of the members of $\\mathcal{S}$ only. First, a quantum circuit prepares the state $|\\Psi\\rangle$ in the quantum device. The Jordan-Wigner encoding is used. Consequently, members of the computational basis represent Fock states (electronic configurations/determinants). The circuit is sampled in the computational basis, yielding the set of noisy configurations $\\tilde{\\mathcal{X}}$. The configurations are represented by bitstrings. The set $\\tilde{\\mathcal{X}}$ is then passed into the classical post-processing block, where the [self-consistent configuration recovery technique](https://arxiv.org/abs/2405.05068) is used. In the SQD framework, the role of the quantum device is to produce a probability distribution."
   ]
  },
  {
   "cell_type": "markdown",
   "id": "afeb054c",
   "metadata": {},
   "source": [
    "### Map problem to a quantum circuit\n",
    "\n",
    "In this tutorial, we will approximate the ground state energy of an $N_2$ molecule. First, we will specify the molecule and its properties. Next, we will create a [local unitary cluster Jastrow (LUCJ)](https://pubs.rsc.org/en/content/articlelanding/2023/sc/d3sc02516k) ansatz (quantum circuit) to generate samples from a quantum computer for ground state energy estimation.\n",
    "\n",
    "First, we will specify the molecule and its properties."
   ]
  },
  {
   "cell_type": "markdown",
   "id": "3fcd4a68-7040-4b30-8253-d5c05042fc16",
   "metadata": {},
   "source": [
    "<div class=\"alert alert-block alert-info\">\n",
    "    \n",
    "⚠️ **Note:** The circuit data is precomputed and provided in this notebook, so `pyscf` installation is not required. You may skip the cell below and proceed directly to the **\"Loading the Optimized Ansatz\"** section.\n",
    "</div>\n"
   ]
  },
  {
   "cell_type": "code",
   "execution_count": 4,
   "id": "677f54ac-b4ed-47e3-b5ba-5366d3a520f9",
   "metadata": {},
   "outputs": [],
   "source": [
    "import warnings, pickle\n",
    "import numpy as np\n",
    "\n",
    "# warnings.filterwarnings(\"ignore\")\n",
    "\n",
    "# # from pyscf import ao2mo, tools\n",
    "\n",
    "# Specify molecule properties\n",
    "num_orbitals = 16\n",
    "num_elec_a = num_elec_b = 5\n",
    "open_shell = False\n",
    "spin_sq = 0\n",
    "\n",
    "# # Read in molecule from disk if using pyscf\n",
    "# # mf_as = tools.fcidump.to_scf(\"utils/n2_fci.txt\")\n",
    "# # hcore = mf_as.get_hcore()\n",
    "# # eri = ao2mo.restore(1, mf_as._eri, num_orbitals)\n",
    "# # nuclear_repulsion_energy = mf_as.mol.energy_nuc()\n",
    "\n",
    "# # Load values if not using pyscf\n",
    "hcore = np.load(\"utils/hcore.npy\")\n",
    "eri = np.load(\"utils/eri.npy\")\n",
    "with open(\"utils/nuclear_repulsion_energy.pkl\", \"rb\") as f:\n",
    "    nuclear_repulsion_energy = pickle.load(f)"
   ]
  },
  {
   "cell_type": "markdown",
   "id": "96bfe018",
   "metadata": {},
   "source": [
    "Next, we will create the ansatz. The ``LUCJ`` ansatz is a parameterized quantum circuit, and we will initialize it with `t2` and `t1` amplitudes obtained from a CCSD calculation."
   ]
  },
  {
   "cell_type": "code",
   "execution_count": 5,
   "id": "66270387",
   "metadata": {},
   "outputs": [],
   "source": [
    "# from pyscf import cc\n",
    "\n",
    "# mf_as.kernel()\n",
    "# mc = cc.CCSD(mf_as)\n",
    "# mc.kernel()\n",
    "# t1 = mc.t1\n",
    "# t2 = mc.t2"
   ]
  },
  {
   "attachments": {},
   "cell_type": "markdown",
   "id": "f4d882fa",
   "metadata": {},
   "source": [
    "## Loading the optimized ansatz\n",
    "\n",
    "In this tutorial, we’ll begin with a pre-prepared and **optimized ansatz file**. The pre-prepared ansatz has been created with IBM's heavy-hex topology in mind, adopting a **zig-zag pattern** for qubit interactions. In this pattern, orbitals of the same spin are connected in a zig-zag line across the heavy-hex lattice (shown below).\n",
    "\n",
    "![lucj_ansatz](images/lucj_ansatz_zig_zag_pattern.jpg)\n",
    "\n",
    "The optimized ansatz file has the circuit configured with `t1` and `t2` amplitudes for our molecule’s closed-shell Hartree-Fock state. By starting with an already optimized circuit, we can focus directly on the quantum diagonalization tasks. For more details on how this is implemented, check out the tutorial in the docs [here](https://learning.quantum.ibm.com/tutorial/improving-energy-estimation-of-a-fermionic-hamiltonian-with-sqd).\n",
    "\n"
   ]
  },
  {
   "cell_type": "code",
   "execution_count": 6,
   "id": "dbecf963-3a42-45fe-982a-7a1ad769c6d7",
   "metadata": {},
   "outputs": [],
   "source": [
    "from qiskit import qpy\n",
    "\n",
    "with open(\"utils/N2_UCJ_Transpiled.qpy\", \"rb\") as fd:\n",
    "    isa_circuit = qpy.load(fd)[0]"
   ]
  },
  {
   "cell_type": "markdown",
   "id": "0cc1edef",
   "metadata": {},
   "source": [
    "### Execute experiments"
   ]
  },
  {
   "cell_type": "markdown",
   "id": "cbf7ef9f",
   "metadata": {},
   "source": [
    "After optimizing the circuit for hardware execution, we are ready to run it on the target hardware and collect samples for ground state energy estimation.\n",
    "\n",
    "<div class=\"alert alert-block alert-warning\">\n",
    "    \n",
    "⚠️ **Note:** We have commented out the code for running the circuit on a QPU and left it for the user's reference. Instead of running on real hardware in this walkthrough, we will just read in 100k samples drawn from ``ibm_sherbrooke`` at an earlier time.\n",
    "\n",
    "</div>\n"
   ]
  },
  {
   "cell_type": "code",
   "execution_count": 7,
   "id": "3da09100",
   "metadata": {},
   "outputs": [],
   "source": [
    "import numpy as np\n",
    "\n",
    "# from qiskit_ibm_runtime import SamplerV2 as Sampler\n",
    "\n",
    "# sampler = Sampler(mode=backend)\n",
    "# job = sampler.run([isa_circuit], shots=100_000)\n",
    "# primitive_result = job.result()\n",
    "# pub_result = primitive_result[0]\n",
    "# counts = pub_result.data.meas.get_counts()\n",
    "\n",
    "counts = np.load(\"utils/N2_device_counts.npy\", allow_pickle=True).item()"
   ]
  },
  {
   "cell_type": "markdown",
   "id": "6df05b6e",
   "metadata": {},
   "source": [
    "### Post-process results using SQD"
   ]
  },
  {
   "cell_type": "markdown",
   "id": "851bc98e-9c08-4e78-9472-36301abc11d8",
   "metadata": {},
   "source": [
    "In this section, we’ll post-process the quantum samples generated from the optimized ansatz to estimate the molecule’s ground state energy. This step involves transforming our data, iteratively refining it, and applying self-consistent configuration recovery to improve accuracy.\n",
    "\n",
    "### Step 1: Convert Counts to Bitstring and Probability Arrays\n",
    "\n",
    "We start by converting the raw counts from our quantum device into a **bitstring matrix** and a **probability array**. Each row in the bitstring matrix represents a unique quantum state (bitstring) sampled from our circuit. Since qubits are indexed from the right of a bitstring in Qiskit, column ``0`` represents qubit ``N-1``, and column ``N-1`` represents qubit ``0``, where ``N`` is the number of qubits.\n",
    "\n",
    "The probability array reflects the likelihood of each bitstring occurring in the sampled data. Following the ordering from the LUCJ ansatz, the alpha particles are represented in the column index range ``(N, N/2]``, and the beta particles are represented in the column range ``(N/2, 0]``."
   ]
  },
  {
   "cell_type": "code",
   "execution_count": 8,
   "id": "7a102a7f-aae6-4583-ab82-ae40fcb5496a",
   "metadata": {},
   "outputs": [],
   "source": [
    "from qiskit_addon_sqd.counts import counts_to_arrays\n",
    "\n",
    "# Convert counts into bitstring and probability arrays\n",
    "bitstring_matrix_full, probs_arr_full = counts_to_arrays(counts)"
   ]
  },
  {
   "cell_type": "code",
   "execution_count": 9,
   "id": "16911bf6",
   "metadata": {},
   "outputs": [
    {
     "name": "stdout",
     "output_type": "stream",
     "text": [
      "[[False False False ...  True False  True]\n",
      " [False False False ...  True  True  True]\n",
      " [False False False ...  True  True  True]\n",
      " ...\n",
      " [ True  True  True ...  True  True  True]\n",
      " [ True  True  True ...  True False  True]\n",
      " [ True  True  True ...  True False False]] \n",
      " \n",
      " [9.99927237e-06 9.99927291e-06 9.99929083e-06 ... 9.99934578e-06\n",
      " 9.99936349e-06 9.99934828e-06]\n"
     ]
    }
   ],
   "source": [
    "print(bitstring_matrix_full, \"\\n\", \"\\n\", probs_arr_full)"
   ]
  },
  {
   "cell_type": "markdown",
   "id": "eb704101-0fe8-4d12-b572-b1d844e35a90",
   "metadata": {},
   "source": [
    "Iteratively refine the samples using configuration recovery and approximate the ground state at each iteration\n",
    "\n",
    "There are a few user-controlled options which are important for this technique:\n",
    "\n",
    "- ``iterations``: Number of self-consistent configuration recovery iterations\n",
    "- ``n_batches``: Number of batches of configurations used by the different calls to the eigenstate solver\n",
    "- ``samples_per_batch``: Number of unique configurations to include in each batch\n",
    "- ``max_davidson_cycles``: Maximum number of Davidson cycles run by each eigensolver"
   ]
  },
  {
   "cell_type": "code",
   "execution_count": 10,
   "id": "247c7fd0-2ee3-4f47-9abc-ed2445a37048",
   "metadata": {},
   "outputs": [],
   "source": [
    "# SQD options\n",
    "iterations = 5\n",
    "rand_seed = 42\n",
    "\n",
    "# Eigenstate solver options\n",
    "n_batches = 5\n",
    "samples_per_batch = 50\n",
    "max_davidson_cycles = 200"
   ]
  },
  {
   "cell_type": "markdown",
   "id": "244ff7f8-5bfa-4d2b-82d4-16fd3eafa542",
   "metadata": {},
   "source": [
    "Additionally, we must initialize a couple of data structures that will be used throughout the course of the SQD algorithm.\n",
    "\n",
    "- ``energy_hist``: The history of ground state energies obtained for the individual batches at each iteration of the algorithm\n",
    "- ``occupancy_hist``: The occupancy of each spin orbital averaged over all batches at each iteration of the algorithm\n",
    "- ``occupancies_bitwise``: An array containing the average orbital occupancies, such that element ``i`` corresponds to the same orbital as the ``i``'th bit in the samples. When this is `None`, it signifies we are on iteration ``0`` and have no occupancy information yet. In that case, we simply discard all non-physical samples (samples with incorrect hamming weight)."
   ]
  },
  {
   "cell_type": "code",
   "execution_count": 11,
   "id": "b1c85423-cc1a-47b6-a0dc-b5dcdca575fe",
   "metadata": {},
   "outputs": [],
   "source": [
    "energy_hist = np.zeros((iterations, n_batches))  # energy history\n",
    "occupancy_hist = np.zeros((iterations, 2 * num_orbitals))\n",
    "occupancies_bitwise = None  # orbital i corresponds to column i in bitstring matrix"
   ]
  },
  {
   "cell_type": "markdown",
   "id": "3cdeac18-59c7-4a6b-a7d8-deba0f9dbade",
   "metadata": {},
   "source": [
    "**Bootstrapping SQD**\n",
    "\n",
    "Iteration ``0`` of SQD is a special case, so we will use it to explain each step in the algorithm before proceeding to the configuration recovery loop.\n",
    "\n",
    "1. Refine **all** raw samples from QPU\n",
    "2. Subsampling\n",
    "3. Subspace diagonalization\n",
    "4. Update tracked quantities"
   ]
  },
  {
   "cell_type": "markdown",
   "id": "a12e1ba6-a9ff-47fd-b34a-6457a7571a7f",
   "metadata": {},
   "source": [
    "**1. Refine all raw samples from QPU**\n",
    "\n",
    "Since we have not yet done any subspace diagonalization, we do not have any information about the average orbital occupancy from those solutions. Therefore, we cannot do configuration recovery during iteration ``0``.\n",
    "\n",
    "Instead, we simply remove all non-physical samples (samples with incorrect hamming weight in either the alpha or beta systems) and diagonalize in subspaces formed by the remaining configurations. This will be done during the next step.\n",
    "<div class=\"alert alert-block alert-info\">\n",
    "    \n",
    "⚠️ **Note**: If the QPU does not produce enough samples which support the ground state, the SQD algorithm will not be able to bootstrap. The technique requires the ansatz be a good description of the ground state and for samples from that ansatz to contain adequate support of the ground state.\n",
    "\n",
    "</div>\n"
   ]
  },
  {
   "cell_type": "code",
   "execution_count": 12,
   "id": "62790586-b558-42b1-8c4f-528a6fac1850",
   "metadata": {},
   "outputs": [],
   "source": [
    "bitstring_matrix_tmp = bitstring_matrix_full\n",
    "probs_arr_tmp = probs_arr_full"
   ]
  },
  {
   "cell_type": "markdown",
   "id": "ab8a7dfd-3bdb-4dd7-a287-b2e90c220753",
   "metadata": {},
   "source": [
    "**2. Subsampling**\n",
    "\n",
    "In the second step of SQD, we must generate the batches of samples. We previously set ``bitstring_matrix_tmp`` and ``probs_array_tmp`` to include **all** the raw samples from the QPU. Normally, the batches of subsamples would be sampled from a refined set of bitstrings, but for iteration ``0`` the batches will be selected from the raw QPU samples which reflect correct particle number in both the alpha and beta subsystems."
   ]
  },
  {
   "cell_type": "code",
   "execution_count": 13,
   "id": "48f0808b-0b1e-40fe-8d34-b837ef7e3ae0",
   "metadata": {},
   "outputs": [],
   "source": [
    "from qiskit_addon_sqd.subsampling import postselect_and_subsample\n",
    "\n",
    "batches = postselect_and_subsample(\n",
    "    bitstring_matrix_tmp,\n",
    "    probs_arr_tmp,\n",
    "    hamming_right=num_elec_a,\n",
    "    hamming_left=num_elec_b,\n",
    "    samples_per_batch=samples_per_batch,\n",
    "    num_batches=n_batches,\n",
    "    rand_seed=rand_seed,\n",
    ")"
   ]
  },
  {
   "cell_type": "markdown",
   "id": "ce8c3c72-e592-4c72-8fb3-ccdac1f542c4",
   "metadata": {},
   "source": [
    "Now that we have batches of subsamples, we must project and diagonalize the Hamiltonian in each of the subspaces spanned by those subsamples. This is, computationally, most demanding part of the algorithm, and it will likely be necessary to parallelize these solvers for utility-scale problems. Since the problem in this example is relatively small, we will just run the solvers in a loop."
   ]
  },
  {
   "cell_type": "code",
   "execution_count": 14,
   "id": "b806e037-40d3-49ea-9880-743c48c6c89f",
   "metadata": {
    "scrolled": true
   },
   "outputs": [],
   "source": [
    "from qiskit_addon_sqd.fermion import solve_fermion\n",
    "\n",
    "# Run eigenstate solvers in a loop. This loop should be parallelized for larger problems.\n",
    "energies = np.zeros(n_batches)\n",
    "occupancies = np.zeros((n_batches, 2 * num_orbitals))\n",
    "for j in range(n_batches):\n",
    "    energy_sci, _, avg_occs, _ = solve_fermion(\n",
    "        batches[j],\n",
    "        hcore,\n",
    "        eri,\n",
    "        open_shell=open_shell,\n",
    "        spin_sq=spin_sq,\n",
    "        max_davidson=max_davidson_cycles,\n",
    "    )\n",
    "    energy_sci += nuclear_repulsion_energy\n",
    "    energies[j] = energy_sci\n",
    "    occupancies[j, :num_orbitals] = avg_occs[0]\n",
    "    occupancies[j, num_orbitals:] = avg_occs[1]"
   ]
  },
  {
   "cell_type": "markdown",
   "id": "da6543ba-dc89-4d8b-80da-9d4c46e70b4b",
   "metadata": {},
   "source": [
    "**Update the tracked quantities**\n",
    "\n",
    "We have now reached the end of the first iteration of the SQD algorithm, and all that is left to do is to append our tracked quantities to the history and begin the next iteration.\n",
    "\n",
    "Here it is important to note that we can combine the average occupancies from across all batches to further refine their averages. In contrast, for the energy values we will only be interested in the minimal energy value obtained across the all the batches."
   ]
  },
  {
   "cell_type": "code",
   "execution_count": 15,
   "id": "bf24db12-5eff-4c6f-9462-862c65424bcd",
   "metadata": {},
   "outputs": [],
   "source": [
    "from qiskit_addon_sqd.fermion import flip_orbital_occupancies\n",
    "\n",
    "# Combine batch results\n",
    "avg_occupancies = np.mean(occupancies, axis=0)\n",
    "# The occupancies from the solver should be flipped to match the bits in the bitstring matrix.\n",
    "occupancies_bitwise = flip_orbital_occupancies(avg_occupancies)\n",
    "\n",
    "# Track optimization history\n",
    "energy_hist[0, :] = energies\n",
    "occupancy_hist[0, :] = avg_occupancies"
   ]
  },
  {
   "cell_type": "markdown",
   "id": "38422404-bbd6-48f9-9ddc-cfb8c7ad07f8",
   "metadata": {},
   "source": [
    "**Continuing configuration recovery**\n",
    "\n",
    "After having completed the first iteration of the SQD algorithm step-by-step, we are now ready to run the remaining iterations in a loop.\n",
    "\n",
    "In the following code cell, you see all of the previous steps combined into one big loop, with one major difference: we now have gathered the average occupancy information (``avg_occupancies``) which we can use to perform configuration recovery at the beginning of the loop."
   ]
  },
  {
   "cell_type": "code",
   "execution_count": 63,
   "id": "b72c048e-fe8e-4fc2-b28b-03138249074e",
   "metadata": {},
   "outputs": [
    {
     "name": "stdout",
     "output_type": "stream",
     "text": [
      "Starting configuration recovery iteration 1\n",
      "Starting configuration recovery iteration 2\n",
      "Starting configuration recovery iteration 3\n",
      "Starting configuration recovery iteration 4\n"
     ]
    }
   ],
   "source": [
    "from qiskit_addon_sqd.configuration_recovery import recover_configurations\n",
    "\n",
    "for i in range(1, iterations):\n",
    "    print(f\"Starting configuration recovery iteration {i}\")\n",
    "    bs_mat_tmp, probs_arr_tmp = recover_configurations(\n",
    "        bitstring_matrix_full,\n",
    "        probs_arr_full,\n",
    "        occupancies_bitwise,\n",
    "        num_elec_a,\n",
    "        num_elec_b,\n",
    "        rand_seed=rand_seed,\n",
    "    )\n",
    "\n",
    "    # Create batches, and throw out configurations with incorrect particle\n",
    "    # number in either the spin-up or spin-down systems\n",
    "    batches = postselect_and_subsample(\n",
    "        bs_mat_tmp,\n",
    "        probs_arr_tmp,\n",
    "        hamming_right=num_elec_a,\n",
    "        hamming_left=num_elec_b,\n",
    "        samples_per_batch=samples_per_batch,\n",
    "        num_batches=n_batches,\n",
    "        rand_seed=rand_seed,\n",
    "    )\n",
    "\n",
    "    # Run eigenstate solvers in a loop. This loop should be parallelized for larger problems.\n",
    "    energies = np.zeros(n_batches)\n",
    "    occupancies = np.zeros((n_batches, 2 * num_orbitals))\n",
    "    for j in range(n_batches):\n",
    "        energy_sci, coeffs_sci, avg_occs, _ = solve_fermion(\n",
    "            batches[j],\n",
    "            hcore,\n",
    "            eri,\n",
    "            open_shell=open_shell,\n",
    "            spin_sq=spin_sq,\n",
    "            max_davidson=max_davidson_cycles,\n",
    "        )\n",
    "        energy_sci += nuclear_repulsion_energy\n",
    "        energies[j] = energy_sci\n",
    "        occupancies[j, :num_orbitals] = avg_occs[0]\n",
    "        occupancies[j, num_orbitals:] = avg_occs[1]\n",
    "\n",
    "    # Combine batch results\n",
    "    avg_occupancies = np.mean(occupancies, axis=0)\n",
    "    # The occupancies from the solver should be flipped to match the bits in the bitstring matrix.\n",
    "    occupancies_bitwise = flip_orbital_occupancies(avg_occupancies)\n",
    "\n",
    "    # Track optimization history\n",
    "    energy_hist[i, :] = energies\n",
    "    occupancy_hist[i, :] = avg_occupancies"
   ]
  },
  {
   "cell_type": "markdown",
   "id": "9d78906b-4759-4506-9c69-85d4e67766b3",
   "metadata": {},
   "source": [
    "### Visualize the results\n",
    "\n",
    "The first plot shows how far our approximations are from chemical accuracy (typically accepted to be ``1 kcal/mol`` $\\approx$ ``1.6 mH``).\n",
    "\n",
    "The second plot shows the average occupancy of each spatial orbital after the final iteration. We can see that both the spin-up and spin-down electrons occupy the first five orbitals with high probability in our solutions."
   ]
  },
  {
   "cell_type": "code",
   "execution_count": 64,
   "id": "caffd888-e89c-4aa9-8bae-4d1bb723b35e",
   "metadata": {},
   "outputs": [
    {
     "data": {
      "image/png": "[encoded data removed]",
      "text/plain": [
       "<Figure size 1200x600 with 2 Axes>"
      ]
     },
     "metadata": {},
     "output_type": "display_data"
    }
   ],
   "source": [
    "import matplotlib.pyplot as plt\n",
    "\n",
    "# Data for energies plot\n",
    "n2_exact = -109.10288938\n",
    "x1 = range(iterations)\n",
    "e_diff = [abs(np.min(energies) - n2_exact) for energies in energy_hist]\n",
    "yt1 = [1.0, 1e-1, 1e-2, 1e-3, 1e-4]\n",
    "\n",
    "# Chemical accuracy (+/- 1 milli-Hartree)\n",
    "chem_accuracy = 0.001\n",
    "\n",
    "# Data for avg spatial orbital occupancy\n",
    "y2 = avg_occupancies[:num_orbitals] + avg_occupancies[num_orbitals:]\n",
    "x2 = range(len(y2))\n",
    "\n",
    "fig, axs = plt.subplots(1, 2, figsize=(12, 6))\n",
    "\n",
    "# Plot energies\n",
    "axs[0].plot(x1, e_diff, label=\"energy error\", marker=\"o\")\n",
    "axs[0].set_xticks(x1)\n",
    "axs[0].set_xticklabels(x1)\n",
    "axs[0].set_yticks(yt1)\n",
    "axs[0].set_yticklabels(yt1)\n",
    "axs[0].set_yscale(\"log\")\n",
    "axs[0].set_ylim(1e-4)\n",
    "axs[0].axhline(y=chem_accuracy, color=\"#BF5700\", linestyle=\"--\", label=\"chemical accuracy\")\n",
    "axs[0].set_title(\"Approximated Ground State Energy Error vs SQD Iterations\")\n",
    "axs[0].set_xlabel(\"Iteration Index\", fontdict={\"fontsize\": 12})\n",
    "axs[0].set_ylabel(\"Energy Error (Ha)\", fontdict={\"fontsize\": 12})\n",
    "axs[0].legend()\n",
    "\n",
    "# Plot orbital occupancy\n",
    "axs[1].bar(x2, y2, width=0.8)\n",
    "axs[1].set_xticks(x2)\n",
    "axs[1].set_xticklabels(x2)\n",
    "axs[1].set_title(\"Avg Occupancy per Spatial Orbital\")\n",
    "axs[1].set_xlabel(\"Orbital Index\", fontdict={\"fontsize\": 12})\n",
    "axs[1].set_ylabel(\"Avg Occupancy\", fontdict={\"fontsize\": 12})\n",
    "\n",
    "plt.tight_layout()\n",
    "plt.show()"
   ]
  },
  {
   "cell_type": "markdown",
   "id": "c5503a47-f726-43c7-a690-1bcdd53805bf",
   "metadata": {},
   "source": [
    "## Part 2: Challenge - Refining the Ground State Energy Estimation\n",
    "\n",
    "Congratulations on completing Part 1! You now have hands-on experience with Sample-Based Quantum Diagonalization (SQD) and have used a quantum circuit to approximate the ground state energy of a molecule.\n",
    "\n",
    "In **Part 2**, you’ll take on a challenge to improve the accuracy of the energy estimation. While our initial setup in Part 1 provided a baseline approximation, here, you’ll explore how different parameter choices impact performance.\n",
    "\n"
   ]
  },
  {
   "cell_type": "markdown",
   "id": "bfe26e04-0d56-4efc-a3c1-c646f647893d",
   "metadata": {},
   "source": [
    "<div class=\"alert alert-block alert-warning\">\n",
    "\n",
    "🏆 **Scored Challenge** \n",
    "\n",
    "This is a scored challenge, and your submission results will count toward the leaderboard!\n",
    "\n",
    "Good luck, take your time to experiment and enjoy the challenge!\n",
    "</div>\n"
   ]
  },
  {
   "cell_type": "markdown",
   "id": "7860032a-d532-4958-8304-0cdf83615f32",
   "metadata": {},
   "source": [
    "<a id=\"exercise_1\"></a>\n",
    "<div class=\"alert alert-block alert-success\">\n",
    "    \n",
    "<b>Exercise 1: Refining the Ground State Energy Estimation</b> \n",
    "\n",
    "In the tutorial example, we used small subspaces and limited the number of batches to 5 per iteration to get an initial approximation of the molecule's ground state energy. However, there’s significant room for improvement in accuracy. Your task in **Part 2** is to enhance the energy estimation by experimenting with two key parameters:\n",
    "\n",
    "- **Subspace Size** (`samples_per_batch`): Adjust the number of samples per batch to define the subspace size used for Hamiltonian projection and diagonalization. Increasing this value can improve accuracy but may increase computational load.\n",
    "- **Number of Batches** (`num_batches`): Change the number of batches to find a balance between computational efficiency and result precision at each iteration.\n",
    "\n",
    "Using these parameters strategically, aim to bring the estimated ground state energy as close as possible to the true value. Test different combinations to minimize the error, taking into account the effect of noise and hardware constraints.\n",
    "\n",
    "Good luck, and let’s see how close you can get to the true ground state energy!\n",
    "\n",
    "</div>\n",
    "\n",
    "---\n",
    "\n",
    "### Participants should submit\n",
    "\n",
    "- (int) `n_batches`: The number of subspaces in which to project and diagonalize the Hamiltonian at each of the 5 iterations.\n",
    "- (int) `samples_per_batch`: The number of samples to use to generate the subspaces.\n",
    "\n",
    "\n"
   ]
  },
  {
   "cell_type": "markdown",
   "id": "7131636b-c137-4292-a065-2f1346c881c5",
   "metadata": {},
   "source": [
    "<div class=\"alert alert-block alert-info\"> \n",
    "    \n",
    "⚠️ **Please Note:**\n",
    "This notebook is structured so that **Part 2: Challenge** can be run independently of **Part 1: Tutorial**. If you’d like, you can skip directly to this section and adjust the parameters without needing to re-run the entire notebook.\n",
    "</div>\n"
   ]
  },
  {
   "cell_type": "markdown",
   "id": "cc2ceb20-5ad5-45c4-a20a-61cf7295e8da",
   "metadata": {},
   "source": [
    "First, we will define a function which performs the same loop as shown above and takes in the ``num_batches`` and ``samples_per_batch`` arguments as inputs."
   ]
  },
  {
   "cell_type": "code",
   "execution_count": 16,
   "id": "ebab1079-bbbe-4e8a-9666-9ceeda6dee93",
   "metadata": {},
   "outputs": [],
   "source": [
    "import numpy as np\n",
    "import matplotlib.pyplot as plt\n",
    "from pyscf import tools, ao2mo\n",
    "\n",
    "from qiskit_addon_sqd.counts import counts_to_arrays, generate_counts_uniform\n",
    "from qiskit_addon_sqd.subsampling import postselect_and_subsample\n",
    "from qiskit_addon_sqd.fermion import solve_fermion, flip_orbital_occupancies\n",
    "from qiskit_addon_sqd.configuration_recovery import recover_configurations\n",
    "\n",
    "\n",
    "def sqd_configuration_recovery(n_batches: int, samples_per_batch: int) -> float:\n",
    "    \"\"\"Perform SQD on N2 molecule, given some subspace parameters.\"\"\"\n",
    "    iterations = 5\n",
    "    num_orbitals = 16\n",
    "    num_elec_a = num_elec_b = 5\n",
    "    rand_seed = int(np.random.default_rng(2**24).random())\n",
    "\n",
    "    counts = np.load(\"utils/N2_device_counts.npy\", allow_pickle=True).item()\n",
    "    # Convert counts into bitstring and probability arrays\n",
    "    bitstring_matrix, probabilities = counts_to_arrays(counts)\n",
    "\n",
    "    # Read in molecule from disk if using pyscf\n",
    "    # mf_as = tools.fcidump.to_scf(\"utils/n2_fci.txt\")\n",
    "    # hcore = mf_as.get_hcore()\n",
    "    # eri = ao2mo.restore(1, mf_as._eri, num_orbitals)\n",
    "    # nuclear_repulsion_energy = mf_as.mol.energy_nuc()\n",
    "\n",
    "    # Load values if not using pyscf\n",
    "    hcore = np.load(\"utils/hcore.npy\")\n",
    "    eri = np.load(\"utils/eri.npy\")\n",
    "    with open(\"utils/nuclear_repulsion_energy.pkl\", \"rb\") as f:\n",
    "        nre = pickle.load(f)\n",
    "\n",
    "    # Self-consistent configuration recovery loop\n",
    "    energy_hist = np.zeros((iterations, n_batches))  # energy history\n",
    "    occupancy_hist = np.zeros((iterations, 2 * num_orbitals))\n",
    "    occupancies_bitwise = None  # orbital i corresponds to column i in bitstring matrix\n",
    "    for i in range(iterations):\n",
    "        print(f\"Starting configuration recovery iteration {i}\")\n",
    "        # On the first iteration, we have no orbital occupancy information from the\n",
    "        # solver, so we just post-select from the full bitstring set based on hamming weight.\n",
    "        if occupancies_bitwise is None:\n",
    "            bs_mat_tmp = bitstring_matrix\n",
    "            probs_arr_tmp = probabilities\n",
    "\n",
    "        # If we have average orbital occupancy information, we use it to refine the full set of noisy configurations\n",
    "        else:\n",
    "            bs_mat_tmp, probs_arr_tmp = recover_configurations(\n",
    "                bitstring_matrix,\n",
    "                probabilities,\n",
    "                occupancies_bitwise,\n",
    "                num_elec_a,\n",
    "                num_elec_b,\n",
    "                rand_seed=rand_seed,\n",
    "            )\n",
    "\n",
    "        # Throw out configurations with incorrect particle number in either the spin-up or spin-down systems\n",
    "        batches = postselect_and_subsample(\n",
    "            bs_mat_tmp,\n",
    "            probs_arr_tmp,\n",
    "            hamming_right=num_elec_a,\n",
    "            hamming_left=num_elec_b,\n",
    "            samples_per_batch=samples_per_batch,\n",
    "            num_batches=n_batches,\n",
    "            rand_seed=rand_seed,\n",
    "        )\n",
    "\n",
    "        # Run eigenstate solvers in a loop. This loop should be parallelized for larger problems.\n",
    "        energy_tmp = np.zeros(n_batches)\n",
    "        occs_tmp = np.zeros((n_batches, 2 * num_orbitals))\n",
    "        for j in range(n_batches):\n",
    "            energy_sci, _, avg_occs, _ = solve_fermion(\n",
    "                batches[j],\n",
    "                hcore,\n",
    "                eri,\n",
    "            )\n",
    "            energy_sci += nre\n",
    "            energy_tmp[j] = energy_sci\n",
    "            occs_tmp[j, :num_orbitals] = avg_occs[0]\n",
    "            occs_tmp[j, num_orbitals:] = avg_occs[1]\n",
    "\n",
    "        # Combine batch results\n",
    "        avg_occupancies = np.mean(occs_tmp, axis=0)\n",
    "        # The occupancies from the solver should be flipped to match the bits in the bitstring matrix.\n",
    "        occupancies_bitwise = flip_orbital_occupancies(avg_occupancies)\n",
    "\n",
    "        # Track optimization history\n",
    "        energy_hist[i, :] = energy_tmp\n",
    "        occupancy_hist[i, :] = avg_occupancies\n",
    "\n",
    "    return energy_hist\n",
    "\n",
    "\n",
    "def visualize_sqd_results(energy_hist):\n",
    "    # Hard code some values\n",
    "    n2_exact = -109.10288938\n",
    "    iterations = 5\n",
    "    num_orbitals = 16\n",
    "\n",
    "    x1 = range(iterations)\n",
    "    e_diff = [abs(np.min(energies) - n2_exact) for energies in energy_hist]\n",
    "    yt1 = [1.0, 1e-1, 1e-2, 1e-3, 1e-4]\n",
    "\n",
    "    # Chemical accuracy (+/- 1 milli-Hartree)\n",
    "    chem_accuracy = 0.001\n",
    "\n",
    "    fig, axs = plt.subplots(1, 1, figsize=(6, 6))\n",
    "\n",
    "    # Plot energies\n",
    "    axs.plot(x1, e_diff, label=\"energy error\", marker=\"o\")\n",
    "    axs.set_xticks(x1)\n",
    "    axs.set_xticklabels(x1)\n",
    "    axs.set_yticks(yt1)\n",
    "    axs.set_yticklabels(yt1)\n",
    "    axs.set_yscale(\"log\")\n",
    "    axs.set_ylim(1e-4)\n",
    "    axs.axhline(y=chem_accuracy, color=\"#BF5700\", linestyle=\"--\", label=\"chemical accuracy\")\n",
    "    axs.set_title(\"Approximated Ground State Energy Error vs SQD Iterations\")\n",
    "    axs.set_xlabel(\"Iteration Index\", fontdict={\"fontsize\": 12})\n",
    "    axs.set_ylabel(\"Energy Error (Ha)\", fontdict={\"fontsize\": 12})\n",
    "    axs.legend()\n",
    "\n",
    "    plt.tight_layout()\n",
    "    return plt\n"
   ]
  },
  {
   "cell_type": "code",
   "execution_count": 3,
   "id": "3c501fcb-1d12-4982-98cb-8c55d3cb2418",
   "metadata": {},
   "outputs": [],
   "source": [
    "### Write your code below here ###\n",
    "\n",
    "from qiskit_ibm_runtime import QiskitRuntimeService\n",
    "\n",
    "QiskitRuntimeService.save_account(\n",
    "    channel=\"ibm_quantum\",\n",
    "    instance=\"events/qdc-participant2/user-101\",\n",
    "    token=\"1a60533a1a3f011b9de0f55cd8ce72e3736b949fa4c78431b85ccfe43106a90e99ba9c40809f1efb8d3d8983ce8779ad768640004fa7712e1964c72f07fb147d\",\n",
    "    overwrite=True,\n",
    ")\n",
    "\n",
    "# Or save your credentials on disk.\n",
    "# QiskitRuntimeService.save_account(channel='ibm_quantum', instance='events/qdc-participant2/user-101', token='1a60533a1a3f011b9de0f55cd8ce72e3736b949fa4c78431b85ccfe43106a90e99ba9c40809f1efb8d3d8983ce8779ad768640004fa7712e1964c72f07fb147d')\n",
    "\n",
    "num_batches = 1\n",
    "samples_per_batch = 100001\n",
    "\n",
    "### Don't change any code past this line ###"
   ]
  },
  {
   "cell_type": "code",
   "execution_count": null,
   "id": "e3892e7f-be93-4a6a-906e-87169cc3f438",
   "metadata": {},
   "outputs": [],
   "source": [
    "num_orbitals = 16\n",
    "\n",
    "counts = np.load(\"utils/N2_device_counts.npy\", allow_pickle=True).item()\n",
    "# Convert counts into bitstring and probability arrays\n",
    "bitstring_matrix_full, probs_arr_full = counts_to_arrays(counts)\n",
    "\n",
    "energy_hist = sqd_configuration_recovery(num_batches, samples_per_batch)\n",
    "min_e = np.min(energy_hist)  # Submit this value\n",
    "print(\n",
    "    \"###########################################################################\\n\"\n",
    "    f\"Ground state energy approximation: {min_e}\\n\"\n",
    "    \"###########################################################################\"\n",
    ")\n",
    "print(1 / (min_e + 109.10288938))\n",
    "plt = visualize_sqd_results(energy_hist)\n",
    "plt.show()"
   ]
  },
  {
   "cell_type": "code",
   "execution_count": 6,
   "id": "4a8eec87",
   "metadata": {},
   "outputs": [
    {
     "name": "stdout",
     "output_type": "stream",
     "text": [
      "Submitting your answer. Please wait...\n",
      "Username submitted.\n"
     ]
    }
   ],
   "source": [
    "# Please choose your username for the leaderboard\n",
    "\n",
    "username = \"GuillermoAbadLopez\"\n",
    "submit_name(username)"
   ]
  },
  {
   "cell_type": "code",
   "execution_count": null,
   "id": "9856318f-7ac9-4b52-ae66-d851749fb007",
   "metadata": {},
   "outputs": [],
   "source": [
    "from qc_grader.challenges.qdc_2024 import grade_day1b_ex1\n",
    "\n",
    "num_batches = 1\n",
    "samples_per_batch = 100000\n",
    "\n",
    "grade_day1b_ex1(num_batches, samples_per_batch)\n",
    "# Expected result type: Int, Int"
   ]
  },
  {
   "cell_type": "markdown",
   "id": "4079e49f-2a6a-4030-941e-3b465e9a5e8e",
   "metadata": {},
   "source": [
    "<a id=\"scoring_func\"></a>\n",
    "<div class=\"alert alert-block alert-success\">\n",
    "    \n",
    "⚠️ **About the scoring function** \n",
    "\n",
    "Your score in this challenge depends on how close your calculated energy value is to the exact ground state energy for the molecule.\n",
    "\n",
    "The exact ground state energy is `-109.10288938`. If your answer falls below this value, it’s considered physically impossible, energy cannot be lower than the true ground state. In this case, you’ll need to adjust your parameters and try again.\n",
    "\n",
    "For valid results (above the ground state energy), your score is calculated as follows:\n",
    "\n",
    "$$\\text{Score} = \\frac{1}{\\text{Answer} - \\text{Exact Ground State}}$$\n",
    "\n",
    "A smaller energy error results in a higher score, so aim to get as close as possible to the exact ground state energy for a better score.\n",
    "\n",
    "</div>\n"
   ]
  },
  {
   "cell_type": "markdown",
   "id": "da9c040f-b5d6-4b04-8236-e6b5f617c717",
   "metadata": {},
   "source": [
    "<div class=\"alert alert-block alert-info\">\n",
    "\n",
    "💬 **Feedback:** Please provide feedback on the level of abstraction provided by Qiskit addons. Is it the right amount of abstraction? Do you wish there were more or less parameters available for you to adjust? Why? (Please expand)\n",
    "</div>"
   ]
  },
  {
   "cell_type": "code",
   "execution_count": null,
   "id": "5bccfbfe-1177-4e4a-94e9-522e749fd3d8",
   "metadata": {},
   "outputs": [],
   "source": [
    "# Submit your feedback here\n",
    "\n",
    "# feedback =\n",
    "# submit_feedback_1b_1(feedback)\n",
    "# Expected result type: String"
   ]
  },
  {
   "cell_type": "markdown",
   "id": "b079b6ea-0e64-4044-a064-0d85b0d1e097",
   "metadata": {},
   "source": [
    "<div class=\"alert alert-block alert-success\">\n",
    "<b>Make the most of the in-person QDC experience</b>\n",
    "    \n",
    "Feel free to experiment with the addons to discover the different ways they can add value to your quantum projects. Please do not hesitate to reach out to the mentors and IBMers in the room to ask questions and learn how to unlock even more potential from each of these addons!\n",
    "\n",
    "</div>"
   ]
  },
  {
   "cell_type": "markdown",
   "id": "0c178010-7083-4b6c-a16e-72642d8775a7",
   "metadata": {},
   "source": [
    "<div class=\"alert alert-block alert-info\">\n",
    "\n",
    "💬 **Feedback:** How do you envision using Qiskit addons in your work after the Challenge?\n",
    "\n",
    "</div>"
   ]
  },
  {
   "cell_type": "code",
   "execution_count": null,
   "id": "03ea9e10-82d6-42c5-af35-c5a2c682a9af",
   "metadata": {},
   "outputs": [],
   "source": [
    "# Submit your feedback here\n",
    "\n",
    "# feedback =\n",
    "# submit_feedback_1b_2(feedback)\n",
    "# Expected result type: String"
   ]
  },
  {
   "cell_type": "markdown",
   "id": "d57a15a3-36c5-4e95-afda-a86cd5f78286",
   "metadata": {},
   "source": [
    "## Congratulations on completing the Day 1 Challenge!\n",
    "\n",
    "You’ve completed Day 1 of the challenge and have reached the end of this notebook, where you explored the Sample-Based Quantum Diagonalization (SQD) Qiskit addon and tackled the challenge of refining ground state energy estimations for a molecular Hamiltonian! \n",
    "\n",
    "Feel free to refer back to this notebook, check out the other track, revisit exercises or try some of the optional sections to refine your skills. We hope this journey has inspired you to push the boundaries of quantum computing!\n",
    "\n",
    "Get ready for Day 2, where we’ll dive into new concepts and tackle even more exciting quantum challenges. We look forward to seeing you continue your quantum journey!\n",
    "\n",
    "**Happy coding, and see you on Day 2 for more quantum challenges!**"
   ]
  },
  {
   "cell_type": "markdown",
   "id": "36a799ce-c83e-4928-8b55-62cf466fbbdc",
   "metadata": {},
   "source": [
    "# Additional information\n",
    "\n",
    "**Created by:** Alejandra Perea Rojas, Bryce Fuller, Caleb Johnson, Javier Robledo Moreno, Jennifer Glick, Jim Garrison, Sanket Panda, Junye Huang, Max Rossmannek, Vishal Sharathchandra Bajpe\n",
    "\n",
    "**Advised by:** Abby Mitchell, Blake Johnson, Henry Zou, Tushar Mittal, Vincent Pascuzzi\n",
    "\n",
    "**Version:** 1.1.0"
   ]
  }
 ],
 "metadata": {
  "kernelspec": {
   "display_name": "Python 3 (ipykernel)",
   "language": "python",
   "name": "python3"
  },
  "language_info": {
   "codemirror_mode": {
    "name": "ipython",
    "version": 3
   },
   "file_extension": ".py",
   "mimetype": "text/x-python",
   "name": "python",
   "nbconvert_exporter": "python",
   "pygments_lexer": "ipython3",
   "version": "3.12.7"
  }
 },
 "nbformat": 4,
 "nbformat_minor": 5
}
