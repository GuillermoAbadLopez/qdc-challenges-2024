{
 "cells": [
  {
   "cell_type": "markdown",
   "id": "926bfdf6-4f8a-429f-ac2a-86eaf8fe2b74",
   "metadata": {},
   "source": [
    "<div>\n",
    "<img src=\"QDC_Notebook_Header_Day-02.png\"/>\n",
    "</div>\n"
   ]
  },
  {
   "cell_type": "markdown",
   "id": "08678b43-e553-4b2b-8d92-441a035df76f",
   "metadata": {},
   "source": [
    "# QDC Day 2 - Challenge Track B: Transpilation\n",
    "\n",
    "**Welcome to Day 2 Track B of the Quantum Developer Challenge**, where we’ll focus on optimizing transpilation for the Quantum Approximate Optimization Algorithm (QAOA)! In this 2-hour challenge, you’ll dive into optimizing quantum circuits with Qiskit’s transpiler and the Qiskit Transpiler Service, using a QAOA cost function as the target workload.\n",
    "\n",
    "Your goal today is to create a custom transpiler workflow that efficiently maps QAOA circuits onto a specified quantum architecture, reducing circuit depth and gate count while preserving fidelity.\n",
    "\n",
    "\n",
    "Let’s jump in and get started with QDC Day 2!\n"
   ]
  },
  {
   "cell_type": "markdown",
   "id": "38a87610-1e8e-4716-b297-26f3fcdc9894",
   "metadata": {},
   "source": [
    "# Table of Contents\n",
    "\n",
    "**Track B: Experiment with custom pass managers**\n",
    "* [**Track B: Deep Dive into Custom Transpilation Strategies**](#Track-B:-Experiment-with-custom-pass-managers---Deep-Dive-into-Custom-Transpilation-Strategies)\n",
    "* [**Example: Custom optimal pass for QAOA**](#6.-Example:-Custom-optimal-pass-for-QAOA)\n",
    "    * [*Exercise 1: Grand Finale*](#Exercise-1:-Grand-Finale)\n",
    " \n",
    "**For access to the Track A notebook, please click [here](link).**"
   ]
  },
  {
   "cell_type": "code",
   "execution_count": null,
   "id": "258bd480-331c-4c9d-9b87-1bcd447f3524",
   "metadata": {},
   "outputs": [],
   "source": [
    "# Required packages\n",
    "# %pip install qiskit\n",
    "# %pip install qiskit-ibm-runtime\n",
    "# %pip install qiskit-ibm-transpiler\n",
    "# %pip install qiskit-aer\n",
    "# %pip install colorama\n",
    "# %pip install git+https://github.com/qiskit-community/Quantum-Challenge-Grader.git"
   ]
  },
  {
   "cell_type": "code",
   "execution_count": null,
   "id": "9c571e68-9c92-4bfb-897b-ae2db357e360",
   "metadata": {},
   "outputs": [],
   "source": [
    "# Imports\n",
    "from colorama import Fore, Style\n",
    "from qc_grader.challenges.qdc_2024_2 import grade_day2b_ex1, submit_name, submit_feedback_2b_1\n",
    "from utils import score_func"
   ]
  },
  {
   "cell_type": "markdown",
   "id": "2a224a8a-2bc8-403a-af38-af1a2646e88e",
   "metadata": {},
   "source": [
    "## Track B: Experiment with custom pass managers - Deep Dive into Custom Transpilation Strategies"
   ]
  },
  {
   "cell_type": "markdown",
   "id": "d1ff536c-cd7a-4b66-bea6-ef3345206607",
   "metadata": {
    "jp-MarkdownHeadingCollapsed": true
   },
   "source": [
    "### Ready for the Next Challenge? </b> \n",
    "\n",
    "In Track B, you'll take your skills to the next level by diving deep into custom transpilation strategies. Here, you'll have the opportunity to write your own transpiler passes, experiment with advanced pass managers, and fine-tune your circuits like never before.\n",
    "\n",
    "This next stage is all about pushing boundaries and seeing how far you can optimize your quantum circuits. It’s where the real challenge begins, and where you’ll truly master the art of quantum circuit optimization.\n",
    "\n",
    "**Note: This section does not require you to do Track A - it and can be attempted standalone.**\n",
    "\n",
    "Are you ready to take on the Track B Challenge? Let’s continue this journey and see how far you can go!\n",
    "\n"
   ]
  },
  {
   "cell_type": "markdown",
   "id": "43cd09e0-969e-413c-b8c5-008b7d8a8d21",
   "metadata": {},
   "source": [
    "\n",
    "### Introduction\n",
    "\n",
    "For those looking to push the limits of quantum circuit optimization, Track B offers a deeper exploration into custom transpilation strategies. This track is designed for participants who want to experiment with more sophisticated techniques, leveraging the full flexibility of Qiskit’s transpilation capabilities.\n",
    "\n",
    "### Challenge Objectives\n",
    "\n",
    "- **Optimize Beyond Defaults:** Move beyond preset configurations to develop and fine-tune custom pass managers that implement high-impact optimizations tailored to your circuit's unique requirements.\n",
    "- **Explore Custom Transpiler Passes:** Attempt to create your own transpiler passes to address specific optimization challenges using your own approaches.\n",
    "- **Experiment with Custom Staged Transpilation:** Utilize staged pass managers to structure the transpilation process into distinct phases and precisly control each stage of circuit transformation.\n",
    "\n",
    "Benchmark your optimizations and test and iterate on your custom strategies, comparing them against standard presets to demonstrate your work's effectiveness against the grader.\n"
   ]
  },
  {
   "cell_type": "markdown",
   "id": "e4d4d3c0-46d8-44a9-b05d-bb1cfc34b73c",
   "metadata": {},
   "source": [
    "For inspiration, here is an example of a custom transpilation pass strategy implemented by our IBM researchers."
   ]
  },
  {
   "cell_type": "markdown",
   "id": "cab6f431-db2e-44d0-9f3e-1ec2de317c36",
   "metadata": {},
   "source": [
    "## Example: Custom optimal pass for QAOA\n",
    "This section shows how applying domain-specific transpilation strategies allows to reduce circuit depth and two-qubit gate count on QAOA circuits. \n",
    "\n",
    "*This section is from a notebook authored by Elena Peña Tapia, IBM Quantum. You can find the notebook here: [https://github.com/qiskit-community/qopt-best-practices/blob/main/how_tos/how_to_apply_optimal_qaoa_transpilation.ipynb](https://github.com/qiskit-community/qopt-best-practices/blob/main/how_tos/how_to_apply_optimal_qaoa_transpilation.ipynb)*\n",
    "\n",
    "References:\n",
    "\n",
    "[1] Sack, S. H., & Egger, D. J. (2023). Large-scale quantum approximate optimization on non-planar graphs with machine learning noise mitigation. arXiv preprint arXiv:2307.14427.\n",
    "\n",
    "[2] Weidenfeller, J., Valor, L. C., Gacon, J., Tornow, C., Bello, L., Woerner, S., & Egger, D. J. (2022). Scaling of the quantum approximate optimization algorithm on superconducting qubit based hardware. Quantum, 6, 870. "
   ]
  },
  {
   "cell_type": "markdown",
   "id": "7e5c0952-8a17-439c-8aad-b230b72f4ca8",
   "metadata": {
    "jp-MarkdownHeadingCollapsed": true
   },
   "source": [
    "<div class=\"alert alert-block alert-warning\">\n",
    "\n",
    "<b> **Note:** </b> The problem setting in the example below is for $n=10$ and $m=6$.\n",
    "\n",
    "</div>"
   ]
  },
  {
   "cell_type": "code",
   "execution_count": null,
   "id": "fa293fd3-f9eb-4632-b74c-1a48cd0c579b",
   "metadata": {},
   "outputs": [],
   "source": [
    "# Setup problem\n",
    "from qiskit import QuantumCircuit\n",
    "from networkx import barabasi_albert_graph, draw\n",
    "graph = barabasi_albert_graph(n=10, m=6, seed=42)\n",
    "\n",
    "# Build operators\n",
    "from utils import build_max_cut_paulis\n",
    "from qiskit.quantum_info import SparsePauliOp\n",
    "\n",
    "local_correlators = build_max_cut_paulis(graph)\n",
    "cost_operator = SparsePauliOp.from_list(local_correlators)\n",
    "print(cost_operator)\n",
    "num_qubits = cost_operator.num_qubits\n",
    "\n",
    "# Build cost_layer\n",
    "# We are taking advantage of the QAOAAnsatz class to build the cost layer, \n",
    "# note that we are giving it dummy initial state and mixer circuits.\n",
    "from qiskit import QuantumCircuit\n",
    "from qiskit.circuit.library import QAOAAnsatz\n",
    "from qiskit.circuit import ParameterVector\n",
    "\n",
    "dummy_initial_state = QuantumCircuit(num_qubits)  # the real initial state is defined later\n",
    "dummy_mixer_operator = QuantumCircuit(num_qubits)  # the real mixer is defined later\n",
    "\n",
    "cost_layer = QAOAAnsatz(\n",
    "    cost_operator,\n",
    "    reps=1,\n",
    "    initial_state=dummy_initial_state,\n",
    "    mixer_operator=dummy_mixer_operator,\n",
    "    name=\"QAOA cost block\",\n",
    ")\n",
    "\n",
    "# Define layers\n",
    "num_qubits = cost_operator.num_qubits\n",
    "qaoa_layers = 3"
   ]
  },
  {
   "cell_type": "code",
   "execution_count": null,
   "id": "aeeaab23-10cc-4479-8dac-5831660e7d49",
   "metadata": {},
   "outputs": [],
   "source": [
    "from qiskit_ibm_runtime import QiskitRuntimeService\n",
    "\n",
    "# QiskitRuntimeService.save_account(\n",
    "#     channel=\"ibm_quantum\",\n",
    "#     token=\"\",\n",
    "#     set_as_default=True,\n",
    "#     # Use `overwrite=True` if you're updating your token.\n",
    "#     overwrite=True,\n",
    "# )\n",
    " \n",
    "# Load saved credentials\n",
    "service = QiskitRuntimeService(channel=\"ibm_quantum\")\n",
    "\n",
    "# Select backend\n",
    "backend = service.backend(\"ibm_torino\")"
   ]
  },
  {
   "cell_type": "markdown",
   "id": "f13aba60-124c-4dcd-8e35-7e15403cc9f0",
   "metadata": {},
   "source": [
    "### Design a pass manager for cost layer transpilation\n",
    "\n",
    "The cost layer transpilation stage will apply the swap strategies from [1,2] to optimally route the cost layer circuit into the connectivity of our backend. This collection of passes will insert swap gates to fit the circuit to the chip connectivity in a way that will allow to maximally cancel CNOT gates and reduce the total circuit depth.\n",
    "\n",
    "Note that we are routing the circuit into a `line`, which proves to be optimal in most QAOA cases. To make sure that the line fits into our chip, we use the `BackendEvaluator` utility before committing to the swap strategy:"
   ]
  },
  {
   "cell_type": "code",
   "execution_count": null,
   "id": "2f2f68fe-2d4d-4901-96db-e4d614ecc567",
   "metadata": {},
   "outputs": [],
   "source": [
    "from utils import BackendEvaluator\n",
    "\n",
    "# The backend evaluator finds the line of qubits with the best fidelity to map the circuit to\n",
    "path_finder = BackendEvaluator(backend)\n",
    "path, fidelity, num_subsets = path_finder.evaluate(num_qubits)\n",
    "print(path, fidelity)"
   ]
  },
  {
   "cell_type": "markdown",
   "id": "026389f7-31ee-4f3c-8243-de5d5c5a1581",
   "metadata": {},
   "source": [
    "The collection of passes defined below will be embedded into the \"pre_init\" stage of our `StagedPassManager`."
   ]
  },
  {
   "cell_type": "code",
   "execution_count": null,
   "id": "1407d326-3e9d-4be7-b15d-8897d93a662b",
   "metadata": {},
   "outputs": [],
   "source": [
    "from qiskit.transpiler import PassManager\n",
    "from qiskit.transpiler.passes import (\n",
    "    BasisTranslator,\n",
    "    UnrollCustomDefinitions,\n",
    "    CommutativeCancellation,\n",
    "    Decompose,\n",
    "    CXCancellation,\n",
    "    HighLevelSynthesis,\n",
    "    InverseCancellation\n",
    ")\n",
    "\n",
    "from qiskit.transpiler.passes.routing.commuting_2q_gate_routing import (\n",
    "    SwapStrategy,\n",
    "    FindCommutingPauliEvolutions,\n",
    "    Commuting2qGateRouter,\n",
    ")\n",
    "from qiskit.circuit.library.standard_gates.equivalence_library import _sel\n",
    "from qiskit.circuit.library import CXGate"
   ]
  },
  {
   "cell_type": "code",
   "execution_count": null,
   "id": "fcf4fe64-9b6c-4658-93b5-03b4678a984a",
   "metadata": {},
   "outputs": [],
   "source": [
    "# 1. choose swap strategy (in this case -> line)\n",
    "swap_strategy = SwapStrategy.from_line([i for i in range(num_qubits)])\n",
    "edge_coloring = {(idx, idx + 1): (idx + 1) % 2 for idx in range(num_qubits)}\n",
    "\n",
    "# 2. define pass manager for cost layer\n",
    "pre_init = PassManager(\n",
    "            [HighLevelSynthesis(basis_gates=['PauliEvolution']),\n",
    "             FindCommutingPauliEvolutions(),\n",
    "             Commuting2qGateRouter(\n",
    "                    swap_strategy,\n",
    "                    edge_coloring,\n",
    "                ),\n",
    "             HighLevelSynthesis(basis_gates=[\"x\", \"cx\", \"sx\", \"rz\", \"id\"]),\n",
    "             InverseCancellation(gates_to_cancel=[CXGate()]),\n",
    "            ]\n",
    ")"
   ]
  },
  {
   "cell_type": "markdown",
   "id": "6cf0741b-c1f6-4d23-ac8d-e0cc5701b29a",
   "metadata": {},
   "source": [
    "We can run this pass manager independently to confirm that it performs the desired transformations:"
   ]
  },
  {
   "cell_type": "code",
   "execution_count": null,
   "id": "e6370d2b-0f36-493e-946a-f78417abee9c",
   "metadata": {},
   "outputs": [],
   "source": [
    "# Before:\n",
    "print(cost_layer.decompose(reps=4).count_ops())\n",
    "cost_layer.decompose(reps=4).draw(\"mpl\", fold=-1)"
   ]
  },
  {
   "cell_type": "code",
   "execution_count": null,
   "id": "de767f99-4817-42e5-b6eb-4146ea968540",
   "metadata": {},
   "outputs": [],
   "source": [
    "tmp = pre_init.run(cost_layer)"
   ]
  },
  {
   "cell_type": "code",
   "execution_count": null,
   "id": "90d1a654-5ea8-4438-8b19-2d4696608bc4",
   "metadata": {
    "scrolled": true
   },
   "outputs": [],
   "source": [
    "# After:\n",
    "print(tmp.count_ops())\n",
    "tmp.draw('mpl', fold=-1)"
   ]
  },
  {
   "cell_type": "code",
   "execution_count": null,
   "id": "c484bede-b2b8-40d8-8262-ef9ca7666e43",
   "metadata": {},
   "outputs": [],
   "source": [
    "# Mixer operator = rx rotations\n",
    "betas = ParameterVector(\"β\", qaoa_layers)\n",
    "mixer_operator = QuantumCircuit(num_qubits)\n",
    "mixer_operator.rx(-2*betas[0], range(num_qubits))"
   ]
  },
  {
   "cell_type": "code",
   "execution_count": null,
   "id": "9224c52e-6ecf-406f-8f8a-4e8b1c8277e9",
   "metadata": {},
   "outputs": [],
   "source": [
    "from qiskit.transpiler.basepasses import TransformationPass\n",
    "from qiskit.converters import circuit_to_dag, dag_to_circuit\n",
    "\n",
    "class QAOAPass(TransformationPass):\n",
    "\n",
    "    def __init__(self, num_layers, num_qubits, init_state = None, mixer_layer = None):\n",
    "\n",
    "        super().__init__()\n",
    "        self.num_layers = num_layers\n",
    "        self.num_qubits = num_qubits\n",
    "        \n",
    "        if init_state is None:\n",
    "            # Add default initial state -> equal superposition\n",
    "            self.init_state = QuantumCircuit(num_qubits)\n",
    "            self.init_state.h(range(num_qubits))\n",
    "        else: \n",
    "            self.init_state = init_state\n",
    "        \n",
    "        if mixer_layer is None:\n",
    "            # Define default mixer layer\n",
    "            self.mixer_layer = QuantumCircuit(num_qubits)\n",
    "            self.mixer_layer.rx(-2*betas[0], range(num_qubits))\n",
    "        else:\n",
    "            self.mixer_layer = mixer_layer\n",
    "\n",
    "    def run(self, cost_layer_dag):\n",
    "\n",
    "        cost_layer = dag_to_circuit(cost_layer_dag)\n",
    "        qaoa_circuit = QuantumCircuit(self.num_qubits, self.num_qubits)\n",
    "        # Re-parametrize the circuit\n",
    "        gammas = ParameterVector(\"γ\", self.num_layers)\n",
    "        betas = ParameterVector(\"β\", self.num_layers)\n",
    "\n",
    "        # Add initial state\n",
    "        qaoa_circuit.compose(self.init_state, inplace = True)\n",
    "\n",
    "        # iterate over number of qaoa layers\n",
    "        # and alternate cost/reversed cost and mixer\n",
    "        for layer in range(self.num_layers): \n",
    "        \n",
    "            bind_dict = {cost_layer.parameters[0]: gammas[layer]}\n",
    "            bound_cost_layer = cost_layer.assign_parameters(bind_dict)\n",
    "            \n",
    "            bind_dict = {self.mixer_layer.parameters[0]: betas[layer]}\n",
    "            bound_mixer_layer = self.mixer_layer.assign_parameters(bind_dict)\n",
    "        \n",
    "            if layer % 2 == 0:\n",
    "                # even layer -> append cost\n",
    "                qaoa_circuit.compose(bound_cost_layer, range(self.num_qubits), inplace=True)\n",
    "            else:\n",
    "                # odd layer -> append reversed cost\n",
    "                qaoa_circuit.compose(bound_cost_layer.reverse_ops(), range(self.num_qubits), inplace=True)\n",
    "        \n",
    "            # the mixer layer is not reversed\n",
    "            qaoa_circuit.compose(bound_mixer_layer, range(self.num_qubits), inplace=True)\n",
    "        \n",
    "\n",
    "        if self.num_layers % 2 == 1:\n",
    "            # iterate over layout permutations to recover measurements\n",
    "            if self.property_set[\"virtual_permutation_layout\"]:\n",
    "                for cidx, qidx in self.property_set[\"virtual_permutation_layout\"].get_physical_bits().items():\n",
    "                    qaoa_circuit.measure(qidx, cidx)\n",
    "            else:\n",
    "                print(\"layout not found, assigining trivial layout\")\n",
    "                for idx in range(self.num_qubits):\n",
    "                    qaoa_circuit.measure(idx, idx)\n",
    "        else:\n",
    "            for idx in range(self.num_qubits):\n",
    "                qaoa_circuit.measure(idx, idx)\n",
    "    \n",
    "        return circuit_to_dag(qaoa_circuit)\n",
    "        "
   ]
  },
  {
   "cell_type": "markdown",
   "id": "74c41f93-c78e-4871-b4e4-ba2e91608f34",
   "metadata": {},
   "source": [
    "Once again, let's check that this custom pass runs and builds a QAOA circuit with three layers:"
   ]
  },
  {
   "cell_type": "code",
   "execution_count": null,
   "id": "f4028c9d-ea73-4579-b38f-5dbfcc04256b",
   "metadata": {},
   "outputs": [],
   "source": [
    "init = PassManager([QAOAPass(num_layers=3, num_qubits=10)])"
   ]
  },
  {
   "cell_type": "code",
   "execution_count": null,
   "id": "b36e3226-2987-4499-add7-5201264bf8b1",
   "metadata": {},
   "outputs": [],
   "source": [
    "tmp_out = init.run(tmp)\n",
    "tmp_out.count_ops()\n",
    "tmp_out.draw('mpl', fold=-1)"
   ]
  },
  {
   "cell_type": "markdown",
   "id": "565d8a24-0052-4fd5-bedb-d6ce09927078",
   "metadata": {},
   "source": [
    "### Complete the pipeline\n",
    "\n",
    "Now that we can build our optimized QAOA ansatz, we need to fill out the remaining stages of the pipeline. We can use as a reference the output of the preset pass manager and replace the init, pre-init, and post-init stages with our custom pass managers. We need to define a \"post_init\" step that takes care of the basis translation part to match the expected output in the default pipeline."
   ]
  },
  {
   "cell_type": "code",
   "execution_count": null,
   "id": "4354f3ea-041a-4419-be10-a1db41f8614e",
   "metadata": {},
   "outputs": [],
   "source": [
    "from qiskit.transpiler import Layout\n",
    "\n",
    "# We use the obtained path to define the initial layout\n",
    "initial_layout = Layout.from_intlist(path, cost_layer.qregs[0])"
   ]
  },
  {
   "cell_type": "code",
   "execution_count": null,
   "id": "efa42077-cea1-4639-91ba-06ff12557d39",
   "metadata": {},
   "outputs": [],
   "source": [
    "# The post init step unrolls the gates in the ansatz to the backend basis gates\n",
    "post_init = PassManager(\n",
    "    [\n",
    "        UnrollCustomDefinitions(_sel, basis_gates=backend.operation_names, min_qubits=3),\n",
    "        BasisTranslator(_sel, target_basis=backend.operation_names, min_qubits=3),\n",
    "    ]\n",
    ")"
   ]
  },
  {
   "cell_type": "code",
   "execution_count": null,
   "id": "3df2e103-7ed5-4dba-b854-8ca15cea67a6",
   "metadata": {},
   "outputs": [],
   "source": [
    "from qiskit.transpiler.preset_passmanagers import generate_preset_pass_manager\n",
    "\n",
    "staged_pm = generate_preset_pass_manager(3, backend, initial_layout=initial_layout)\n",
    "staged_pm.pre_init = pre_init\n",
    "staged_pm.init = init\n",
    "staged_pm.post_init = post_init\n",
    "# staged_pm.routing = None"
   ]
  },
  {
   "cell_type": "markdown",
   "id": "f4b0e156-b543-4eaa-b622-8f5b7f75861a",
   "metadata": {},
   "source": [
    "### Run the StagedPassManager"
   ]
  },
  {
   "cell_type": "code",
   "execution_count": null,
   "id": "5253eeda-c8fb-4cb3-b00c-8021d9aaabba",
   "metadata": {},
   "outputs": [],
   "source": [
    "import time\n",
    "\n",
    "t0_opt = time.time()\n",
    "optimally_transpiled_qaoa = staged_pm.run(cost_layer)\n",
    "t1_opt = time.time()"
   ]
  },
  {
   "cell_type": "code",
   "execution_count": null,
   "id": "165d4d57-4921-4e17-888c-a732f5584d02",
   "metadata": {},
   "outputs": [],
   "source": [
    "# Print transpilation time\n",
    "print(f\"Transpilation time: {t1_opt - t0_opt:.2f} seconds\")\n",
    "\n",
    "circuit = optimally_transpiled_qaoa\n",
    "# Output various metrics about the transpiled circuit\n",
    "print(f'Count Ops: {circuit.count_ops()}')\n",
    "print(f'Total circuit depth: {circuit.depth()}')\n",
    "print(f'Number of 2-qubit gates: {circuit.size(lambda x: x.operation.num_qubits == 2)}')\n",
    "\n",
    "# Output the score and depth specifically for 2-qubit gates, in color\n",
    "print(Fore.MAGENTA + Style.BRIGHT + f'2-qubit gate depth: {circuit.depth(lambda x: x.operation.num_qubits == 2)}')\n",
    "print(Fore.GREEN + f'Score: {score_func(circuit)}')"
   ]
  },
  {
   "cell_type": "markdown",
   "id": "cad24bfc-eb4c-4a03-9800-91b009b68a1d",
   "metadata": {},
   "source": [
    "## Exercise 1: Grand Finale\n",
    "<a id=\"exercise1\"></a>\n",
    "<div class=\"alert alert-block alert-success\">\n",
    "<b>Exercise 1: Advanced Circuit Optimization</b>\n",
    "\n",
    "Let's use all the capabilities of the Qiskit SDK's transpiler and Transpiler Service to achieve the best results. You are free to use any approach you wish as long as you **build a Custom Pass Manager or leverage a Staged Pass Manager**\n",
    "\n",
    "\n",
    "**Goal:** Obtain a quantum circuit with the best possible metrics through advanced transpilation techniques. Focus on optimizing metrics such as CNOT count, SWAP count, and total circuit depth. Demonstrate the scalability of your methods to larger circuits. Aim for at least a 5-10% reduction in both two-qubit gate count and circuit depth compared to the AI transpiler service or an optimal solution, while maintaining or improving transpilation time complexity.\n",
    "\n",
    "**Some helpful documentation links for this exercise:**\n",
    "- [Create a custom PassManager](https://docs.quantum.ibm.com/guides/dynamical-decoupling-pass-manager)\n",
    "- [Write your own custom transpiler pass](https://docs.quantum.ibm.com/guides/custom-transpiler-pass)\n",
    "- [Installing and using transpiler plugins](https://docs.quantum.ibm.com/guides/transpiler-plugins)\n",
    "- [Create a transpiler plugin](https://docs.quantum.ibm.com/guides/create-transpiler-plugin)\n",
    "\n",
    "</div> \n"
   ]
  },
  {
   "cell_type": "code",
   "execution_count": null,
   "id": "b37fcc74-a145-4b75-a82f-81c51a26e4dc",
   "metadata": {},
   "outputs": [],
   "source": [
    "# Setup problem\n",
    "from qiskit import QuantumCircuit\n",
    "from networkx import barabasi_albert_graph, draw\n",
    "graph = barabasi_albert_graph(n=50, m=6, seed=42)\n",
    "\n",
    "# Build operators\n",
    "from utils import build_max_cut_paulis\n",
    "from qiskit.quantum_info import SparsePauliOp\n",
    "\n",
    "local_correlators = build_max_cut_paulis(graph)\n",
    "cost_operator = SparsePauliOp.from_list(local_correlators)\n",
    "num_qubits = cost_operator.num_qubits\n",
    "qaoa_layers = 3\n",
    "\n",
    "# Build cost_layer\n",
    "# We are taking advantage of the QAOAAnsatz class to build the cost layer, \n",
    "# note that we are giving it dummy initial state and mixer circuits.\n",
    "from qiskit import QuantumCircuit\n",
    "from qiskit.circuit.library import QAOAAnsatz\n",
    "from qiskit.circuit import ParameterVector\n",
    "\n",
    "# Initial state = equal superposition\n",
    "initial_state = QuantumCircuit(num_qubits)\n",
    "initial_state.h(range(num_qubits))\n",
    "\n",
    "# Mixer operator = rx rotations\n",
    "betas = ParameterVector(\"β\", qaoa_layers)\n",
    "mixer_operator = QuantumCircuit(num_qubits)\n",
    "mixer_operator.rx(-2*betas[0], range(num_qubits))\n",
    "\n",
    "# Use off-the-shelf qiskit QAOAAnsatz\n",
    "qaoa_ansatz = QAOAAnsatz(\n",
    "    cost_operator,\n",
    "    initial_state = initial_state,\n",
    "    mixer_operator = mixer_operator,\n",
    "    reps = qaoa_layers,\n",
    ")\n",
    "qaoa_ansatz.measure_all()"
   ]
  },
  {
   "cell_type": "code",
   "execution_count": null,
   "id": "3388f204-452b-4eb8-85a2-1592217d1051",
   "metadata": {},
   "outputs": [],
   "source": [
    "### Write your code below here ###\n",
    "\n",
    "\n",
    "\n",
    "\n",
    "\n",
    "pm_ex1 = \n",
    "\n",
    "### Don't change any code past this line ###\n",
    "\n",
    "circuit = pm_ex1.run(qaoa_ansatz)\n",
    "\n",
    "# Output various metrics about the transpiled circuit\n",
    "print(f'Count Ops: {circuit.count_ops()}')\n",
    "print(f'Total circuit depth: {circuit.depth()}')\n",
    "print(f'Number of 2-qubit gates: {circuit.size(lambda x: x.operation.num_qubits == 2)}')\n",
    "\n",
    "# Output the score and depth specifically for 2-qubit gates, in color\n",
    "print(Fore.MAGENTA + Style.BRIGHT + f'2-qubit gate depth: {circuit.depth(lambda x: x.operation.num_qubits == 2)}')\n",
    "print(Fore.GREEN + f'Score: {score_func(circuit)}')"
   ]
  },
  {
   "cell_type": "code",
   "execution_count": null,
   "id": "a850ffdb",
   "metadata": {},
   "outputs": [],
   "source": [
    "# Please choose your username for the leaderboard\n",
    "\n",
    "username = \n",
    "submit_name(username)"
   ]
  },
  {
   "cell_type": "code",
   "execution_count": null,
   "id": "e8800742-3e7f-45ad-ba02-9431c1627316",
   "metadata": {},
   "outputs": [],
   "source": [
    "# Run this cell to grade your answer\n",
    "\n",
    "grade_day2b_ex1(pm_ex1, backend)"
   ]
  },
  {
   "cell_type": "markdown",
   "id": "ab1907e6-488b-41fc-b734-98e4f4801d7e",
   "metadata": {},
   "source": [
    "<div class=\"alert alert-block alert-success\">\n",
    "<b>Make the most of the in-person QDC experience</b>\n",
    "    \n",
    "Feel free to experiment with the different transpiler passes and strategies to discover the different ways they can add value to your quantum projects. Please do not hesitate to reach out to the mentors and IBMers in the room to ask questions and learn how to unlock even more potential from each of these capablities!\n",
    "\n",
    "</div>"
   ]
  },
  {
   "cell_type": "markdown",
   "id": "d130cc46-4abb-4d84-8853-eb6daed8cfc0",
   "metadata": {},
   "source": [
    "<div class=\"alert alert-block alert-info\">\n",
    "\n",
    "💬 **Feedback:**  How valuable do you find the option to customize your transpiler pass beyond the default options? Why?\n",
    "</div>"
   ]
  },
  {
   "cell_type": "code",
   "execution_count": null,
   "id": "8f36616f-d56c-4e8e-8763-0ada302abdaa",
   "metadata": {},
   "outputs": [],
   "source": [
    "# Submit your feedback here\n",
    "\n",
    "feedback = \n",
    "submit_feedback_2b_1(feedback)\n",
    "# Expected result type: String"
   ]
  },
  {
   "cell_type": "markdown",
   "id": "ceacecff-34d5-4a07-ab68-71849b5522bc",
   "metadata": {
    "jp-MarkdownHeadingCollapsed": true
   },
   "source": [
    "\n",
    "\n",
    "## Congratulations on Completing Day 2! </b>\n",
    "\n",
    "You've successfully completed this challenge, where you've gained a solid understanding of Qiskit’s transpilation process and learned how to optimize quantum circuits using preset pass managers. Your ability to navigate through the basics and apply these optimizations is a significant achievement. \n",
    "\n",
    "Feel free to refer back to this notebook, check out the other [track](), revisit exercises, or try some of the optional sections to refine your skills. We hope this journey has inspired you to push the boundaries of quantum computing!\n",
    "\n",
    "Thank you for taking part in the Day 2 of the challenge! We look forward to seeing you continue your quantum journey. \n",
    "\n",
    "**Happy Coding and Quantum Computing – see you tomorrow!**"
   ]
  },
  {
   "cell_type": "markdown",
   "id": "d4f17696-826d-4fa6-a56e-28496a3508a0",
   "metadata": {},
   "source": [
    "# Additional information\n",
    "\n",
    "**Created by:** Elena Peña Tapia, Junye Huang, Vishal Sharathchandra Bajpe\n",
    "\n",
    "**Advised by:** Abby Mitchell, Ali Javadi, Alexander Ivrii, Bryce Fuller, Henry Zou, John Lapeyre, Matthew Trenish,  Shelly Garion\n",
    "\n",
    "**Version:** 1.0.0"
   ]
  }
 ],
 "metadata": {
  "kernelspec": {
   "display_name": "Python 3 (ipykernel)",
   "language": "python",
   "name": "python3"
  },
  "language_info": {
   "codemirror_mode": {
    "name": "ipython",
    "version": 3
   },
   "file_extension": ".py",
   "mimetype": "text/x-python",
   "name": "python",
   "nbconvert_exporter": "python",
   "pygments_lexer": "ipython3",
   "version": "3.11.9"
  }
 },
 "nbformat": 4,
 "nbformat_minor": 5
}
